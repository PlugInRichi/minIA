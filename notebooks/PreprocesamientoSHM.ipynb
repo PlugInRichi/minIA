{
 "cells": [
  {
   "cell_type": "code",
   "execution_count": 2,
   "metadata": {},
   "outputs": [],
   "source": [
    "import pickle\n",
    "import pandas as pd\n",
    "import numpy as np\n",
    "from collections import Counter"
   ]
  },
  {
   "cell_type": "markdown",
   "metadata": {},
   "source": [
    "### Carga descriptores custerizados"
   ]
  },
  {
   "cell_type": "code",
   "execution_count": 3,
   "metadata": {},
   "outputs": [],
   "source": [
    "pickle_file = open('/media/working/minia/descriptores/labels_full_dataset_v2_SIFT.pickle','rb')\n",
    "images_descr = pickle.load(pickle_file)\n",
    "pickle_file.close()"
   ]
  },
  {
   "cell_type": "markdown",
   "metadata": {},
   "source": [
    "### Carga descriptores en formato SIFT"
   ]
  },
  {
   "cell_type": "code",
   "execution_count": 4,
   "metadata": {},
   "outputs": [],
   "source": [
    "pickle_file = open('/media/working/minia/descriptores/full_dataset_v2_SIFT.pickle','rb')\n",
    "args = pickle.load(pickle_file)\n",
    "desc_imgs = pickle.load(pickle_file)\n",
    "pickle_file.close()"
   ]
  },
  {
   "cell_type": "markdown",
   "metadata": {},
   "source": [
    "### Creación de índices con frecuencia"
   ]
  },
  {
   "cell_type": "code",
   "execution_count": 7,
   "metadata": {},
   "outputs": [],
   "source": [
    "file = open('/media/working/minia/minhash/index_new_full_dataset_v2_SIFT.txt','w')\n",
    "#Por cada imagen, toma el descriptor de la imagen y cuenta el número de veces que aparece cada característica en él\n",
    "img = 0\n",
    "for descr in images_descr[0]:\n",
    "    cnt_caract = Counter(descr)\n",
    "    row = str(len(cnt_caract))\n",
    "    for car in sorted(cnt_caract.keys()):\n",
    "        row+= ' '+ str(car) +':'+str(cnt_caract[car]) \n",
    "    file.write(row+'\\n')\n",
    "    img+=1\n",
    "\n",
    "file.close()"
   ]
  },
  {
   "cell_type": "markdown",
   "metadata": {},
   "source": [
    "### Creación de índices con tamaños"
   ]
  },
  {
   "cell_type": "code",
   "execution_count": 9,
   "metadata": {},
   "outputs": [
    {
     "name": "stdout",
     "output_type": "stream",
     "text": [
      "ADELANTE!\n"
     ]
    }
   ],
   "source": [
    "#Verificación de simetría, no ejecutar si no son simétricos\n",
    "if len(images_descr) == len(desc_imgs):\n",
    "    print(\"ADELANTE!\")\n",
    "else:\n",
    "    print(\"Los índices están desfasados, verificar la cardinalidad\")"
   ]
  },
  {
   "cell_type": "code",
   "execution_count": 6,
   "metadata": {},
   "outputs": [],
   "source": [
    "file = open('/media/working/minia/minhash/index_size_full_dataset_v2_SIFT.txt','w')\n",
    "img_keypoints = [x['keypoints'] for x in desc_imgs] #Obtiene lista de KP para cada descriptor\n",
    "img_centroides = list(images_descr[0])\n",
    "\n",
    "while len(img_centroides):\n",
    "    centroides = img_centroides.pop(0)\n",
    "    keypoint = img_keypoints.pop(0)\n",
    "    img = (dict( (cent, 0) for cent in set(centroides))) #Diccionarios con Centroide, peso en 0\n",
    "    for cent, kp in  zip(centroides, keypoint):\n",
    "        img[cent] += round(kp[2]) #Incrementa el tamaño\n",
    "    row = str(len(img))+\" \"+str(img).replace(\", \",\" \").replace(\": \",\":\")[1:-1]\n",
    "    file.write(row+'\\n')\n",
    "    \n",
    "file.close()"
   ]
  }
 ],
 "metadata": {
  "kernelspec": {
   "display_name": "Python 3",
   "language": "python",
   "name": "python3"
  },
  "language_info": {
   "codemirror_mode": {
    "name": "ipython",
    "version": 3
   },
   "file_extension": ".py",
   "mimetype": "text/x-python",
   "name": "python",
   "nbconvert_exporter": "python",
   "pygments_lexer": "ipython3",
   "version": "3.6.9"
  }
 },
 "nbformat": 4,
 "nbformat_minor": 4
}
