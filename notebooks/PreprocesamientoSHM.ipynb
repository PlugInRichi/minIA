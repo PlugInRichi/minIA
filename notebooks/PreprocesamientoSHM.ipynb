{
 "cells": [
  {
   "cell_type": "code",
   "execution_count": 1,
   "metadata": {},
   "outputs": [],
   "source": [
    "import pickle\n",
    "import pandas as pd\n",
    "import numpy as np\n",
    "from collections import Counter"
   ]
  },
  {
   "cell_type": "code",
   "execution_count": 2,
   "metadata": {},
   "outputs": [],
   "source": [
    "pickle_file = open('/media/working/minia/descriptores/centroidesXimagen.pickle','rb')\n",
    "images_descr = pickle.load(pickle_file)\n",
    "pickle_file.close()"
   ]
  },
  {
   "cell_type": "code",
   "execution_count": 13,
   "metadata": {},
   "outputs": [],
   "source": [
    "file = open('/media/working/minia/minhash/centroidesXimagen.txt','w')\n"
   ]
  },
  {
   "cell_type": "code",
   "execution_count": 15,
   "metadata": {},
   "outputs": [],
   "source": [
    "\n",
    "#Por cada imagen, toma el descriptor de la imagen y cuenta el número de veces que aparece cada característica en él\n",
    "img = 0\n",
    "for descr in images_descr[0]:\n",
    "    cnt_caract = Counter(descr)\n",
    "    row = str(len(cnt_caract))\n",
    "    for car in sorted(cnt_caract.keys()):\n",
    "        row+= ' '+ str(car) +':'+str(cnt_caract[car]) \n",
    "    file.write(row+'\\n')\n",
    "    img+=1\n",
    "\n",
    "file.close()"
   ]
  },
  {
   "cell_type": "code",
   "execution_count": null,
   "metadata": {},
   "outputs": [],
   "source": []
  }
 ],
 "metadata": {
  "kernelspec": {
   "display_name": "Python 3",
   "language": "python",
   "name": "python3"
  },
  "language_info": {
   "codemirror_mode": {
    "name": "ipython",
    "version": 3
   },
   "file_extension": ".py",
   "mimetype": "text/x-python",
   "name": "python",
   "nbconvert_exporter": "python",
   "pygments_lexer": "ipython3",
   "version": "3.6.9"
  }
 },
 "nbformat": 4,
 "nbformat_minor": 4
}
