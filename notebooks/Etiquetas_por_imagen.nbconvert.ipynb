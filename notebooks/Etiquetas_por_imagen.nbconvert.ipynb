{
 "cells": [
  {
   "cell_type": "code",
   "execution_count": 1,
   "metadata": {
    "execution": {
     "iopub.execute_input": "2020-11-06T01:47:06.888430Z",
     "iopub.status.busy": "2020-11-06T01:47:06.887258Z",
     "iopub.status.idle": "2020-11-06T01:47:07.937982Z",
     "shell.execute_reply": "2020-11-06T01:47:07.937156Z"
    }
   },
   "outputs": [],
   "source": [
    "#Librerias\n",
    "import pickle\n",
    "import numpy as np\n",
    "import pandas as pd\n",
    "from sklearn.cluster import MiniBatchKMeans\n",
    "import matplotlib.pyplot as plt"
   ]
  },
  {
   "cell_type": "code",
   "execution_count": 2,
   "metadata": {
    "execution": {
     "iopub.execute_input": "2020-11-06T01:47:07.944527Z",
     "iopub.status.busy": "2020-11-06T01:47:07.943732Z",
     "iopub.status.idle": "2020-11-06T01:47:35.044132Z",
     "shell.execute_reply": "2020-11-06T01:47:35.043404Z"
    }
   },
   "outputs": [],
   "source": [
    "pickle_path=('/media/working/minia/descriptores/full_dataset_SURF.pickle')#ruta del archivo\n",
    "pickle_file = open(pickle_path, 'rb')\n",
    "\n",
    "\n",
    "args = pickle.load(pickle_file) #Lista de las posiciones de los descriptores\n",
    "desc_imgs = pickle.load(pickle_file) #Lista de descriptores"
   ]
  },
  {
   "cell_type": "code",
   "execution_count": 3,
   "metadata": {
    "execution": {
     "iopub.execute_input": "2020-11-06T01:47:35.057156Z",
     "iopub.status.busy": "2020-11-06T01:47:35.051879Z",
     "iopub.status.idle": "2020-11-06T01:47:37.718260Z",
     "shell.execute_reply": "2020-11-06T01:47:37.717764Z"
    }
   },
   "outputs": [
    {
     "name": "stderr",
     "output_type": "stream",
     "text": [
      "/media/working/minia/env/lib/python3.6/site-packages/ipykernel_launcher.py:12: VisibleDeprecationWarning: Creating an ndarray from ragged nested sequences (which is a list-or-tuple of lists-or-tuples-or ndarrays with different lengths or shapes) is deprecated. If you meant to do this, you must specify 'dtype=object' when creating the ndarray\n",
      "  if sys.path[0] == '':\n"
     ]
    }
   ],
   "source": [
    "#a = [item['keypoints'] for item in desc_imgs] #\"Posicion del vector descriptor\"\n",
    "b = [item['descriptors'] for item in desc_imgs] #\"Vectores descriptores\"\n",
    "c = [item['name_img'][0] for item in desc_imgs] #\"Nombre de la imagén \"\n",
    "\n",
    "#Longitud de cada vector descriptor\n",
    "hi=[]\n",
    "for i in range(0,len(b),1):\n",
    "    hi.append(len(b[i]))\n",
    "\n",
    "#Lista de descripores con sus n entradas\n",
    "descriptores = b\n",
    "desc = np.array(descriptores)\n",
    "J=[]\n",
    "for D in desc:\n",
    "    for i in D:\n",
    "        J.append(i)\n",
    "    \n",
    "#Descrip_Img = pd.DataFrame(J) #¿cambia?\n"
   ]
  },
  {
   "cell_type": "code",
   "execution_count": 4,
   "metadata": {
    "execution": {
     "iopub.execute_input": "2020-11-06T01:47:38.021257Z",
     "iopub.status.busy": "2020-11-06T01:47:38.020685Z",
     "iopub.status.idle": "2020-11-06T03:04:25.628063Z",
     "shell.execute_reply": "2020-11-06T03:04:25.629779Z"
    }
   },
   "outputs": [
    {
     "name": "stderr",
     "output_type": "stream",
     "text": [
      "/media/working/minia/env/lib/python3.6/site-packages/ipykernel_launcher.py:27: VisibleDeprecationWarning: Creating an ndarray from ragged nested sequences (which is a list-or-tuple of lists-or-tuples-or ndarrays with different lengths or shapes) is deprecated. If you meant to do this, you must specify 'dtype=object' when creating the ndarray\n"
     ]
    }
   ],
   "source": [
    "#Centroides y etiquetas de cada vector descriptor\n",
    "kmeans = MiniBatchKMeans(n_clusters=2000, init='k-means++', n_init=10, max_iter=300, tol=0.0001 ).fit(J)# puede variar el # de centroides\n",
    "centroids = kmeans.cluster_centers_\n",
    "etiquetas = kmeans.labels_\n",
    "la = kmeans.predict(J)\n",
    "\n",
    "#Suma de las longitudes de los vectores \n",
    "listaNumeros=hi\n",
    "laSuma = 0\n",
    "nu=[]\n",
    "for i in listaNumeros:\n",
    "    laSuma = laSuma + i\n",
    "    nu.append(laSuma)\n",
    "\n",
    "\n",
    "#Se le agrega el 0 a la lista\n",
    "nu.insert(0,0)\n",
    "\n",
    "#Etiquetas agrupadas por por vector descriptor (listas de etiquetas)\n",
    "pio=nu\n",
    "lab=[]\n",
    "for i in range(0,len(pio)-1):\n",
    "    lab.append(etiquetas[pio[i]:pio[i+1]])\n",
    "\n",
    "\n",
    "# Cambiamos el tamaño del arreglo anterior\n",
    "my_array= np.array(lab)\n",
    "poo=my_array.reshape((len(lab),1))\n",
    "\n",
    "# Agregamos los nombres al arreglo \n",
    "cool=np.insert(poo, poo.shape[1], np.array((c)), 1)\n",
    "\n",
    "#Formato en pandas\n",
    "lab3=pd.DataFrame(cool)\n",
    "\n",
    "#Se guarda en un archivo pickle\n",
    "labels = lab3\n",
    "pickle_file = open('/media/working/minia/descriptores/labels.pickle', 'wb')\n",
    "pickle.dump(labels, pickle_file)"
   ]
  },
  {
   "cell_type": "code",
   "execution_count": 5,
   "metadata": {
    "execution": {
     "iopub.execute_input": "2020-11-06T03:04:25.665666Z",
     "iopub.status.busy": "2020-11-06T03:04:25.665150Z",
     "iopub.status.idle": "2020-11-06T03:04:25.668075Z",
     "shell.execute_reply": "2020-11-06T03:04:25.667619Z"
    }
   },
   "outputs": [],
   "source": [
    "#Se abre el archivo pickle\n",
    "#pickle_file = open('labels.pickle','rb')\n",
    "#data = pickle.load(pickle_ffile)\n",
    "#print(data)"
   ]
  },
  {
   "cell_type": "code",
   "execution_count": null,
   "metadata": {},
   "outputs": [],
   "source": []
  }
 ],
 "metadata": {
  "kernelspec": {
   "display_name": "Python 3",
   "language": "python",
   "name": "python3"
  },
  "language_info": {
   "codemirror_mode": {
    "name": "ipython",
    "version": 3
   },
   "file_extension": ".py",
   "mimetype": "text/x-python",
   "name": "python",
   "nbconvert_exporter": "python",
   "pygments_lexer": "ipython3",
   "version": "3.6.9"
  }
 },
 "nbformat": 4,
 "nbformat_minor": 4
}
