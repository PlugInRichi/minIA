{
 "cells": [
  {
   "cell_type": "markdown",
   "metadata": {},
   "source": [
    "# Descripción:\n",
    "\n",
    "Visualización interactiva de descriptores "
   ]
  },
  {
   "cell_type": "markdown",
   "metadata": {},
   "source": [
    "## Recuperación por PICKLE"
   ]
  },
  {
   "cell_type": "code",
   "execution_count": 2,
   "metadata": {},
   "outputs": [],
   "source": [
    "import sys\n",
    "from os import path, mkdir, listdir, chdir\n",
    "import pickle\n",
    "import cv2 as cv\n",
    "import ipywidgets as widgets\n",
    "from ipywidgets import interact, interact_manual\n",
    "import matplotlib.pyplot as plt\n",
    "from skimage import io\n",
    "\n",
    "modulos_path = path.abspath('../minIA')\n",
    "if modulos_path not in sys.path:\n",
    "    sys.path.append(modulos_path)\n",
    "    \n",
    "from utiles import lectura_img\n"
   ]
  },
  {
   "cell_type": "code",
   "execution_count": 3,
   "metadata": {},
   "outputs": [],
   "source": [
    "#Recibe lista de keypoints de una imagen, crea los objetos KP de openCV\n",
    "def genKeyPoints( kp_img ):\n",
    "    keypoints = list()\n",
    "    for kp in kp_img:\n",
    "        keypoints.append(cv.KeyPoint(kp[0], kp[1], kp[2]))\n",
    "    return keypoints"
   ]
  },
  {
   "cell_type": "markdown",
   "metadata": {},
   "source": [
    "#### Rutas de ejecución"
   ]
  },
  {
   "cell_type": "code",
   "execution_count": 4,
   "metadata": {},
   "outputs": [
    {
     "data": {
      "application/vnd.jupyter.widget-view+json": {
       "model_id": "12811ee5acc341808153ffa4b12dba13",
       "version_major": 2,
       "version_minor": 0
      },
      "text/plain": [
       "interactive(children=(Text(value='', description='pickle_path'), Text(value='', description='image_dir'), Text…"
      ]
     },
     "metadata": {},
     "output_type": "display_data"
    }
   ],
   "source": [
    "@interact_manual\n",
    "def load_images(pickle_path='', image_dir='', \n",
    "                image_dir_out=''):\n",
    "    pickle_file = open(path.abspath(pickle_path), 'rb')\n",
    "    \n",
    "    args = pickle.load(pickle_file)\n",
    "    desc_imgs = pickle.load(pickle_file)\n",
    "\n",
    "    indexes = range(len(desc_imgs))\n",
    "    for i in indexes:\n",
    "        imagen = path.abspath(image_dir + desc_imgs[i]['name_img'])\n",
    "        img = cv.imread(imagen)\n",
    "        gray= cv.cvtColor(img,cv.COLOR_BGR2GRAY)\n",
    "        keypoints = genKeyPoints(desc_imgs[i]['keypoints'])\n",
    "        img=cv.drawKeypoints(gray,keypoints,img,flags=cv.DRAW_MATCHES_FLAGS_DRAW_RICH_KEYPOINTS)\n",
    "        cv.imwrite(image_dir_out+desc_imgs[i]['name_img'],img)\n",
    "    \n",
    "    global dir_out\n",
    "    dir_out=image_dir_out\n",
    "    print('Listo!' )"
   ]
  },
  {
   "cell_type": "code",
   "execution_count": 5,
   "metadata": {},
   "outputs": [
    {
     "ename": "NameError",
     "evalue": "name 'dir_out' is not defined",
     "output_type": "error",
     "traceback": [
      "\u001b[0;31m---------------------------------------------------------------------------\u001b[0m",
      "\u001b[0;31mNameError\u001b[0m                                 Traceback (most recent call last)",
      "\u001b[0;32m<ipython-input-5-6636b07fe570>\u001b[0m in \u001b[0;36m<module>\u001b[0;34m\u001b[0m\n\u001b[1;32m      1\u001b[0m \u001b[0;34m@\u001b[0m\u001b[0minteract\u001b[0m\u001b[0;34m\u001b[0m\u001b[0;34m\u001b[0m\u001b[0m\n\u001b[0;32m----> 2\u001b[0;31m \u001b[0;32mdef\u001b[0m \u001b[0mshow_images\u001b[0m\u001b[0;34m(\u001b[0m\u001b[0mimg\u001b[0m\u001b[0;34m=\u001b[0m\u001b[0mlistdir\u001b[0m\u001b[0;34m(\u001b[0m\u001b[0mdir_out\u001b[0m\u001b[0;34m)\u001b[0m\u001b[0;34m)\u001b[0m\u001b[0;34m:\u001b[0m\u001b[0;34m\u001b[0m\u001b[0;34m\u001b[0m\u001b[0m\n\u001b[0m\u001b[1;32m      3\u001b[0m     \u001b[0mchdir\u001b[0m\u001b[0;34m(\u001b[0m\u001b[0mdir_out\u001b[0m\u001b[0;34m)\u001b[0m\u001b[0;34m\u001b[0m\u001b[0;34m\u001b[0m\u001b[0m\n\u001b[1;32m      4\u001b[0m     \u001b[0mimage\u001b[0m\u001b[0;34m=\u001b[0m\u001b[0mio\u001b[0m\u001b[0;34m.\u001b[0m\u001b[0mimread\u001b[0m\u001b[0;34m(\u001b[0m\u001b[0mpath\u001b[0m\u001b[0;34m.\u001b[0m\u001b[0mabspath\u001b[0m\u001b[0;34m(\u001b[0m\u001b[0mimg\u001b[0m\u001b[0;34m)\u001b[0m\u001b[0;34m)\u001b[0m\u001b[0;34m\u001b[0m\u001b[0;34m\u001b[0m\u001b[0m\n\u001b[1;32m      5\u001b[0m     \u001b[0mplt\u001b[0m\u001b[0;34m.\u001b[0m\u001b[0mimshow\u001b[0m\u001b[0;34m(\u001b[0m\u001b[0mimage\u001b[0m\u001b[0;34m)\u001b[0m\u001b[0;34m\u001b[0m\u001b[0;34m\u001b[0m\u001b[0m\n",
      "\u001b[0;31mNameError\u001b[0m: name 'dir_out' is not defined"
     ]
    }
   ],
   "source": [
    "@interact\n",
    "def show_images(img=listdir(dir_out)):\n",
    "    chdir(dir_out)\n",
    "    image=io.imread(path.abspath(img))\n",
    "    plt.imshow(image)"
   ]
  },
  {
   "cell_type": "markdown",
   "metadata": {},
   "source": [
    "## Visualización tópicos"
   ]
  },
  {
   "cell_type": "code",
   "execution_count": 25,
   "metadata": {},
   "outputs": [],
   "source": [
    "import pickle\n",
    "import pandas as pd\n",
    "import numpy as np"
   ]
  },
  {
   "cell_type": "code",
   "execution_count": 13,
   "metadata": {},
   "outputs": [],
   "source": [
    "topics_path = '/media/working/minia/minhash/full_dataset_CentxImg.models'\n",
    "topics = open(topics_path, 'r')"
   ]
  },
  {
   "cell_type": "code",
   "execution_count": 14,
   "metadata": {},
   "outputs": [],
   "source": [
    "#Lee el primer tópico\n",
    "topic = topics.readline()"
   ]
  },
  {
   "cell_type": "code",
   "execution_count": 93,
   "metadata": {},
   "outputs": [],
   "source": [
    "# Obtiene los centroides del primer tópico\n",
    "centroides = topic.split()[1:]\n",
    "centroides = [ int(cent.split(':')[0]) for cent in centroides]\n"
   ]
  },
  {
   "cell_type": "code",
   "execution_count": 29,
   "metadata": {},
   "outputs": [],
   "source": [
    "pickle_file = open('/media/working/minia/descriptores/centroidesXimagen.pickle','rb')\n",
    "images_descr = pickle.load(pickle_file )\n",
    "pickle_file.close()"
   ]
  },
  {
   "cell_type": "code",
   "execution_count": 107,
   "metadata": {},
   "outputs": [],
   "source": [
    "def indicesTopicos (centroides, images_descr):\n",
    "    tam_cents = len(centroides)\n",
    "    img_index = 0\n",
    "    images = list()\n",
    "    for descrp in images_descr[0]:\n",
    "        tam_descp = len(descrp)\n",
    "        \n",
    "        #Overlaping\n",
    "        max_ = round( min(tam_descp, tam_cents)*.30 ) #Requiere un 30%\n",
    "        posc_index = 0\n",
    "        posc = list()\n",
    "        for cent in descrp:\n",
    "            if cent in centroides:\n",
    "                posc.append(posc_index)\n",
    "            posc_index += 1\n",
    "        if len(posc) > max_ : #No puede ser >= porque max_ puede ser cero\n",
    "            images.append((img_index,posc)) #Añade una tupla, del indice de la imagen y los indices de los KP\n",
    "        img_index += 1\n",
    "    return images"
   ]
  },
  {
   "cell_type": "code",
   "execution_count": 108,
   "metadata": {},
   "outputs": [
    {
     "name": "stdout",
     "output_type": "stream",
     "text": [
      "(21, [173, 176, 191, 220, 227, 251, 262, 362, 380, 445, 457, 459, 469, 472, 539, 563, 572, 574, 578, 585, 592])\n"
     ]
    }
   ],
   "source": [
    "lista = indicesTopicos (centroides, images_descr[0:100])\n",
    "print(lista[0])"
   ]
  }
 ],
 "metadata": {
  "kernelspec": {
   "display_name": "Python 3",
   "language": "python",
   "name": "python3"
  },
  "language_info": {
   "codemirror_mode": {
    "name": "ipython",
    "version": 3
   },
   "file_extension": ".py",
   "mimetype": "text/x-python",
   "name": "python",
   "nbconvert_exporter": "python",
   "pygments_lexer": "ipython3",
   "version": "3.6.9"
  }
 },
 "nbformat": 4,
 "nbformat_minor": 4
}
