{
 "cells": [
  {
   "cell_type": "code",
   "execution_count": 1,
   "metadata": {},
   "outputs": [],
   "source": [
    "import sys\n",
    "from os import path, mkdir, listdir, chdir\n",
    "import pickle\n",
    "import cv2 as cv\n",
    "import ipywidgets as widgets\n",
    "from ipywidgets import interact, interact_manual\n",
    "import matplotlib.pyplot as plt\n",
    "from skimage import io\n",
    "import pandas as pd\n",
    "import numpy as np\n",
    "\n",
    "modulos_path = path.abspath('../minIA')\n",
    "if modulos_path not in sys.path:\n",
    "    sys.path.append(modulos_path)\n",
    "    \n",
    "from utiles import lectura_img\n",
    "\n"
   ]
  },
  {
   "cell_type": "code",
   "execution_count": 2,
   "metadata": {},
   "outputs": [],
   "source": [
    "#Recibe lista de keypoints de una imagen, crea los objetos KP de openCV\n",
    "def genKeyPoints( kp_img ):\n",
    "    keypoints = list()\n",
    "    for kp in kp_img:\n",
    "        keypoints.append(cv.KeyPoint(kp[0], kp[1], kp[2]))\n",
    "    return keypoints"
   ]
  },
  {
   "cell_type": "markdown",
   "metadata": {},
   "source": [
    "## Visualización de descriptores\n",
    "#### Rutas de ejecución\n",
    "\n"
   ]
  },
  {
   "cell_type": "code",
   "execution_count": 3,
   "metadata": {},
   "outputs": [
    {
     "data": {
      "application/vnd.jupyter.widget-view+json": {
       "model_id": "8a03367bc2244a09a6069c8905f5f36d",
       "version_major": 2,
       "version_minor": 0
      },
      "text/plain": [
       "interactive(children=(Text(value='', description='pickle_path'), Text(value='', description='image_dir'), Text…"
      ]
     },
     "metadata": {},
     "output_type": "display_data"
    }
   ],
   "source": [
    "@interact_manual\n",
    "def load_images(pickle_path='', image_dir='', \n",
    "                image_dir_out=''):\n",
    "    \n",
    "    \n",
    "    pickle_file = open(path.abspath(pickle_path), 'rb')  \n",
    "    args = pickle.load(pickle_file)\n",
    "    desc_imgs = pickle.load(pickle_file)\n",
    "    pickle_file.close()\n",
    "\n",
    "    indexes = range(len(desc_imgs))\n",
    "    for i in indexes:\n",
    "        imagen = path.abspath(image_dir + desc_imgs[i]['name_img'])\n",
    "        img = cv.imread(imagen)\n",
    "        gray= cv.cvtColor(img,cv.COLOR_BGR2GRAY)\n",
    "        keypoints = genKeyPoints(desc_imgs[i]['keypoints'])\n",
    "        img=cv.drawKeypoints(gray,keypoints,img,flags=cv.DRAW_MATCHES_FLAGS_DRAW_RICH_KEYPOINTS)\n",
    "        cv.imwrite(image_dir_out+desc_imgs[i]['name_img'],img)\n",
    "    \n",
    "    global dir_out\n",
    "    dir_out=image_dir_out\n",
    "    print('Listo!' )"
   ]
  },
  {
   "cell_type": "code",
   "execution_count": 5,
   "metadata": {},
   "outputs": [
    {
     "ename": "NameError",
     "evalue": "name 'dir_out' is not defined",
     "output_type": "error",
     "traceback": [
      "\u001b[0;31m---------------------------------------------------------------------------\u001b[0m",
      "\u001b[0;31mNameError\u001b[0m                                 Traceback (most recent call last)",
      "\u001b[0;32m<ipython-input-5-6636b07fe570>\u001b[0m in \u001b[0;36m<module>\u001b[0;34m\u001b[0m\n\u001b[1;32m      1\u001b[0m \u001b[0;34m@\u001b[0m\u001b[0minteract\u001b[0m\u001b[0;34m\u001b[0m\u001b[0;34m\u001b[0m\u001b[0m\n\u001b[0;32m----> 2\u001b[0;31m \u001b[0;32mdef\u001b[0m \u001b[0mshow_images\u001b[0m\u001b[0;34m(\u001b[0m\u001b[0mimg\u001b[0m\u001b[0;34m=\u001b[0m\u001b[0mlistdir\u001b[0m\u001b[0;34m(\u001b[0m\u001b[0mdir_out\u001b[0m\u001b[0;34m)\u001b[0m\u001b[0;34m)\u001b[0m\u001b[0;34m:\u001b[0m\u001b[0;34m\u001b[0m\u001b[0;34m\u001b[0m\u001b[0m\n\u001b[0m\u001b[1;32m      3\u001b[0m     \u001b[0mchdir\u001b[0m\u001b[0;34m(\u001b[0m\u001b[0mdir_out\u001b[0m\u001b[0;34m)\u001b[0m\u001b[0;34m\u001b[0m\u001b[0;34m\u001b[0m\u001b[0m\n\u001b[1;32m      4\u001b[0m     \u001b[0mimage\u001b[0m\u001b[0;34m=\u001b[0m\u001b[0mio\u001b[0m\u001b[0;34m.\u001b[0m\u001b[0mimread\u001b[0m\u001b[0;34m(\u001b[0m\u001b[0mpath\u001b[0m\u001b[0;34m.\u001b[0m\u001b[0mabspath\u001b[0m\u001b[0;34m(\u001b[0m\u001b[0mimg\u001b[0m\u001b[0;34m)\u001b[0m\u001b[0;34m)\u001b[0m\u001b[0;34m\u001b[0m\u001b[0;34m\u001b[0m\u001b[0m\n\u001b[1;32m      5\u001b[0m     \u001b[0mplt\u001b[0m\u001b[0;34m.\u001b[0m\u001b[0mimshow\u001b[0m\u001b[0;34m(\u001b[0m\u001b[0mimage\u001b[0m\u001b[0;34m)\u001b[0m\u001b[0;34m\u001b[0m\u001b[0;34m\u001b[0m\u001b[0m\n",
      "\u001b[0;31mNameError\u001b[0m: name 'dir_out' is not defined"
     ]
    }
   ],
   "source": [
    "@interact\n",
    "def show_images(img=listdir(dir_out)):\n",
    "    chdir(dir_out)\n",
    "    image=io.imread(path.abspath(img))\n",
    "    plt.imshow(image)"
   ]
  },
  {
   "cell_type": "markdown",
   "metadata": {},
   "source": [
    "## Visualización tópicos\n",
    "#### Rutas de ejecución\n",
    "\n",
    "1. /media/working/minia/minhash/index_inv_full_dataset_v2_SIFT.r3l1000.models\n",
    "2. /media/working/minia/descriptores/labels_full_dataset_v2_SIFT.pickle\n",
    "3. /media/working/minia/descriptores/full_dataset_v2_SIFT.pickle\n",
    "4. /media/working/minia/images/images_training_rev1/\n",
    "5. /media/working/minia/images/pruebas\n"
   ]
  },
  {
   "cell_type": "code",
   "execution_count": 4,
   "metadata": {},
   "outputs": [
    {
     "data": {
      "application/vnd.jupyter.widget-view+json": {
       "model_id": "924b06cdc4c74337b32a654691d73573",
       "version_major": 2,
       "version_minor": 0
      },
      "text/plain": [
       "interactive(children=(Text(value='', description='topics_path'), Text(value='', description='centXimg'), Text(…"
      ]
     },
     "metadata": {},
     "output_type": "display_data"
    }
   ],
   "source": [
    "@interact_manual\n",
    "def load_topicos(topics_path='',centXimg='', descr_kp='', image_dir='', \n",
    "                img_dir_out=''):\n",
    "    global topics\n",
    "    global len_topics\n",
    "    global images_descr\n",
    "    global desc_kp\n",
    "    global etiquetas\n",
    "    global dir_out\n",
    "    global dir_img\n",
    "    global topics_lenght\n",
    "    \n",
    "    topics = open(topics_path, 'r')\n",
    "    topics= topics.readlines()\n",
    "    topics_lenght=[]\n",
    "    for line in topics:\n",
    "        centroides = line.strip().split()[1:]\n",
    "        centroides = [ int(cent.split(':')[0]) for cent in centroides]\n",
    "        topics_lenght.append(len(centroides))\n",
    "        \n",
    "    len_topics=len(topics)\n",
    "    \n",
    "    pickle_file = open(centXimg,'rb')\n",
    "    images_descr = pickle.load(pickle_file)\n",
    "    pickle_file.close()\n",
    "    \n",
    "    pickle_file = open(path.abspath(descr_kp), 'rb')  \n",
    "    args = pickle.load(pickle_file)\n",
    "    desc_kp = pickle.load(pickle_file)\n",
    "    pickle_file.close()\n",
    "    \n",
    "    dir_out=img_dir_out\n",
    "    dir_img=image_dir\n",
    "\n",
    "    print('#Topics: '+ str(len_topics))"
   ]
  },
  {
   "cell_type": "code",
   "execution_count": 21,
   "metadata": {},
   "outputs": [],
   "source": [
    "def indicesTopicos (centroides, images_descr,threshold=0.7):\n",
    "    tam_cents = len(centroides)\n",
    "    centroides_= set(centroides) \n",
    "    img_index = 0\n",
    "    images = list()\n",
    "    for descrp in images_descr[0]:\n",
    "        descp_ = dict([(ic,i) for i,ic in enumerate(descrp)])\n",
    "        descp = set(descrp)\n",
    "        tam_descp = len(descrp)\n",
    "        inter=centroides_.intersection(descp)\n",
    "        overlap=len(inter)/min(len(centroides),len(centroides))\n",
    "        if overlap >= threshold:\n",
    "            images.append((img_index,[ descp_[ic] for ic in inter],overlap))\n",
    "        #Overlaping\n",
    "        #max_ = round( min(tam_descp, tam_cents)*.30 ) #Requiere un 30%\n",
    "        #posc_index = 0\n",
    "        #posc = list()\n",
    "        #for cent in descrp:\n",
    "        #    if cent in centroides:\n",
    "        #        posc.append(posc_index)\n",
    "        #    posc_index += 1\n",
    "        #if len(posc) > max_ : #No puede ser >= porque max_ puede ser cero\n",
    "        #    images.append((img_index ,posc)) #Añade una tupla, del indice de la imagen y los indices de los KP\n",
    "        img_index += 1\n",
    "    return images"
   ]
  },
  {
   "cell_type": "code",
   "execution_count": 38,
   "metadata": {
    "scrolled": true
   },
   "outputs": [
    {
     "data": {
      "application/vnd.jupyter.widget-view+json": {
       "model_id": "3268867a96494d568ac29bbcabc6c370",
       "version_major": 2,
       "version_minor": 0
      },
      "text/plain": [
       "interactive(children=(Dropdown(description='Topics', options=(('0 [size 179]', 0), ('1 [size 38]', 1), ('2 [si…"
      ]
     },
     "metadata": {},
     "output_type": "display_data"
    }
   ],
   "source": [
    "@interact_manual\n",
    "def choose_topicos(Topics=[(f\"{i} [size {z}]\",i) for i,z in zip(range(len_topics),topics_lenght)], num_imgs= (0, int(len(images_descr)/1), 5), threshold = (0.0, 1.0, 0.01)):\n",
    "    global lista_imgs\n",
    "    global num_topic\n",
    "    global name_images\n",
    "    \n",
    "    num_topic= Topics\n",
    "    centroides = topics[Topics].split()[1:]\n",
    "    centroides = [ int(cent.split(':')[0]) for cent in centroides]\n",
    "    lista_imgs = indicesTopicos (centroides, images_descr[0:num_imgs], threshold=threshold)\n",
    "    \n",
    "    imgs_index=[imgs[0] for imgs in lista_imgs]\n",
    "    aux=0\n",
    "    name_images=[]\n",
    "    for ii,i in enumerate(imgs_index):\n",
    "        imagen = path.abspath(dir_img + desc_kp[i]['name_img'])\n",
    "        name_images.append((desc_kp[i]['name_img'],aux,i,lista_imgs[ii][2]))\n",
    "        aux+=1\n",
    "        \n",
    "    print('#Images: '+str(len(lista_imgs)))\n",
    "    print('#Len topic: '+str(len(centroides)))"
   ]
  },
  {
   "cell_type": "code",
   "execution_count": 42,
   "metadata": {},
   "outputs": [
    {
     "data": {
      "application/vnd.jupyter.widget-view+json": {
       "model_id": "6d23b83291994a5c8c444613b1a2c224",
       "version_major": 2,
       "version_minor": 0
      },
      "text/plain": [
       "interactive(children=(Dropdown(description='img', options=((0, ('477308.jpg', 0, 195, 0.38461538461538464)), (…"
      ]
     },
     "metadata": {},
     "output_type": "display_data"
    }
   ],
   "source": [
    "plt.rcParams[\"figure.figsize\"] = (10,5)\n",
    "plt.rcParams['figure.dpi'] = 160\n",
    "\n",
    "@interact\n",
    "def show_images_per_topic(img=[(aux,(img,aux,i,o)) for img,aux,i,o in name_images]):\n",
    "    img,aux,i,o=img\n",
    "    if aux-5 < 0:\n",
    "        aux=5\n",
    "    if aux+5 > len(name_images):\n",
    "        aux=len(name_images)-5\n",
    "    min_=max(0,aux-5)\n",
    "    max_=min(len(name_images),aux+5)\n",
    "    fig, axs = plt.subplots(2,5)\n",
    "    for ii in range(min_,max_):\n",
    "        img,aux,i,overlap=name_images[ii]\n",
    "        imagen = path.abspath(dir_img + img)\n",
    "        img = cv.imread(imagen)\n",
    "        gray= cv.cvtColor(img,cv.COLOR_BGR2GRAY)\n",
    "        key_points= [desc_kp[i]['keypoints'][kp] for kp in lista_imgs[aux][1]]\n",
    "        keypoints = genKeyPoints(key_points)\n",
    "        img=cv.drawKeypoints(gray,keypoints,img,color=(255,0,0),flags=cv.DRAW_MATCHES_FLAGS_DRAW_RICH_KEYPOINTS)\n",
    "        x=ii-min_\n",
    "        y=x%5\n",
    "        x=int(x/5)\n",
    "        axs[x,y].set_yticklabels([])\n",
    "        axs[x,y].set_xticklabels([])\n",
    "        axs[x,y].set_xlabel(f'{ii}, {overlap:0.3}')\n",
    "        axs[x,y].imshow(img)"
   ]
  },
  {
   "cell_type": "code",
   "execution_count": null,
   "metadata": {},
   "outputs": [],
   "source": [
    "@interact\n",
    "def show_images_per_topic2(img=listdir(dir_out)):\n",
    "    chdir(dir_out)\n",
    "    image=io.imread(path.abspath(img))\n",
    "    plt.imshow(image)"
   ]
  },
  {
   "cell_type": "code",
   "execution_count": null,
   "metadata": {},
   "outputs": [],
   "source": []
  }
 ],
 "metadata": {
  "kernelspec": {
   "display_name": "Python 3",
   "language": "python",
   "name": "python3"
  },
  "language_info": {
   "codemirror_mode": {
    "name": "ipython",
    "version": 3
   },
   "file_extension": ".py",
   "mimetype": "text/x-python",
   "name": "python",
   "nbconvert_exporter": "python",
   "pygments_lexer": "ipython3",
   "version": "3.6.9"
  }
 },
 "nbformat": 4,
 "nbformat_minor": 4
}
