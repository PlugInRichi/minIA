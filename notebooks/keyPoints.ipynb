{
 "cells": [
  {
   "cell_type": "markdown",
   "metadata": {},
   "source": [
    "# Descripción:\n",
    "\n",
    "Visualización de descriptores "
   ]
  },
  {
   "cell_type": "code",
   "execution_count": null,
   "metadata": {},
   "outputs": [],
   "source": [
    "import sys\n",
    "from os import path\n",
    "import pickle\n",
    "import cv2 as cv\n",
    "\n",
    "from minIA.utiles import lectura_img\n",
    "\n",
    "path_minIA = path.abspath('..')\n",
    "if path_minIA not in sys.path:\n",
    "    sys.path.append(path_minIA)"
   ]
  },
  {
   "cell_type": "markdown",
   "metadata": {},
   "source": [
    "#### SIFT\n",
    "###### Cargamos la misma ruta del directorio de imagenes"
   ]
  },
  {
   "cell_type": "code",
   "execution_count": null,
   "metadata": {},
   "outputs": [],
   "source": [
    "\n",
    "path_images = lectura_img(\"D:\\Archivos\\Proyectos\\minIA\\images\\Grupo1\") \n",
    "for imagen in path_images:\n",
    "    img = cv.imread(imagen)\n",
    "    gray= cv.cvtColor(img,cv.COLOR_BGR2GRAY)\n",
    "    sift = cv.xfeatures2d.SIFT_create()\n",
    "    kp = sift.detect(gray,None)\n",
    "    print(len(kp)) #keypoints por imagen\n",
    "    img=cv.drawKeypoints(gray,kp,img,flags=cv.DRAW_MATCHES_FLAGS_DRAW_RICH_KEYPOINTS)\n",
    "    cv.imwrite(imagen+'_SIFT_keypoints.jpg',img) #Guarda las imagenes en la ruta \n"
   ]
  },
  {
   "cell_type": "markdown",
   "metadata": {},
   "source": [
    "#### SURF\n",
    "###### Cargamos la misma ruta del directorio de imagenes"
   ]
  },
  {
   "cell_type": "code",
   "execution_count": null,
   "metadata": {},
   "outputs": [],
   "source": [
    "path_images = lectura_img(\"C:\\image_galaxia\") \n",
    "for imagen in path_images:\n",
    "    img = cv.imread(imagen)\n",
    "    gray= cv.cvtColor(img,cv.COLOR_BGR2GRAY)\n",
    "    sift = cv.xfeatures2d.SURF_create(hessianThreshold = 400, nOctaves = 4,nOctaveLayers = 3,\n",
    "                                      extended = False, upright = True)\n",
    "    kp = sift.detect(gray,None)\n",
    "    print(len(kp)) #keypoints por imagen\n",
    "    img=cv.drawKeypoints(gray,kp,img,flags=cv.DRAW_MATCHES_FLAGS_DRAW_RICH_KEYPOINTS)\n",
    "    cv.imwrite(imagen+'_SURF_keypoints.jpg',img)  #Guarda las imagenes en la misma ruta dada \n"
   ]
  },
  {
   "cell_type": "markdown",
   "metadata": {},
   "source": [
    "### Recuperación por PICKLE"
   ]
  },
  {
   "cell_type": "code",
   "execution_count": 1,
   "metadata": {},
   "outputs": [],
   "source": [
    "import sys\n",
    "from os import path, mkdir\n",
    "import pickle\n",
    "import cv2 as cv\n",
    "\n",
    "modulos_path = path.abspath('../minIA')\n",
    "if modulos_path not in sys.path:\n",
    "    sys.path.append(modulos_path)\n",
    "    \n",
    "from utiles import lectura_img\n"
   ]
  },
  {
   "cell_type": "code",
   "execution_count": 7,
   "metadata": {},
   "outputs": [
    {
     "ename": "IndexError",
     "evalue": "list index out of range",
     "output_type": "error",
     "traceback": [
      "\u001b[1;31m---------------------------------------------------------------------------\u001b[0m",
      "\u001b[1;31mIndexError\u001b[0m                                Traceback (most recent call last)",
      "\u001b[1;32m<ipython-input-7-8e83e068f358>\u001b[0m in \u001b[0;36m<module>\u001b[1;34m\u001b[0m\n\u001b[0;32m     17\u001b[0m \u001b[0mindexes\u001b[0m \u001b[1;33m=\u001b[0m \u001b[0mrange\u001b[0m\u001b[1;33m(\u001b[0m\u001b[1;36m16\u001b[0m\u001b[1;33m)\u001b[0m\u001b[1;33m\u001b[0m\u001b[1;33m\u001b[0m\u001b[0m\n\u001b[0;32m     18\u001b[0m \u001b[1;32mfor\u001b[0m \u001b[0mi\u001b[0m \u001b[1;32min\u001b[0m \u001b[0mindexes\u001b[0m\u001b[1;33m:\u001b[0m\u001b[1;33m\u001b[0m\u001b[1;33m\u001b[0m\u001b[0m\n\u001b[1;32m---> 19\u001b[1;33m     \u001b[0mname_img\u001b[0m \u001b[1;33m=\u001b[0m \u001b[0mdesc_imgs\u001b[0m\u001b[1;33m[\u001b[0m\u001b[0mi\u001b[0m\u001b[1;33m]\u001b[0m\u001b[1;33m[\u001b[0m\u001b[1;36m2\u001b[0m\u001b[1;33m]\u001b[0m\u001b[1;33m\u001b[0m\u001b[1;33m\u001b[0m\u001b[0m\n\u001b[0m\u001b[0;32m     20\u001b[0m     \u001b[0mimagen\u001b[0m \u001b[1;33m=\u001b[0m \u001b[0mpath\u001b[0m\u001b[1;33m.\u001b[0m\u001b[0mabspath\u001b[0m\u001b[1;33m(\u001b[0m\u001b[0mimage_dir\u001b[0m \u001b[1;33m+\u001b[0m \u001b[0mname_img\u001b[0m\u001b[1;33m)\u001b[0m\u001b[1;33m\u001b[0m\u001b[1;33m\u001b[0m\u001b[0m\n\u001b[0;32m     21\u001b[0m     \u001b[0mimg\u001b[0m \u001b[1;33m=\u001b[0m \u001b[0mcv\u001b[0m\u001b[1;33m.\u001b[0m\u001b[0mimread\u001b[0m\u001b[1;33m(\u001b[0m\u001b[0mimagen\u001b[0m\u001b[1;33m,\u001b[0m \u001b[0mcv\u001b[0m\u001b[1;33m.\u001b[0m\u001b[0mCOLOR_BGR2GRAY\u001b[0m\u001b[1;33m)\u001b[0m\u001b[1;33m\u001b[0m\u001b[1;33m\u001b[0m\u001b[0m\n",
      "\u001b[1;31mIndexError\u001b[0m: list index out of range"
     ]
    }
   ],
   "source": [
    "#Nombre del archivo pickle a utilizar\n",
    "pickle_path = path.abspath('D:\\Archivos\\Proyectos\\minIA\\descriptors\\Edi_SIFT.pickle')\n",
    "image_dir = 'D:\\Archivos\\Proyectos\\minIA\\images\\Edificios\\\\'\n",
    "image_dir_out = 'D:\\Archivos\\Proyectos\\minIA\\images\\Rec_Edificios\\\\'\n",
    "pickle_file = open(pickle_path, 'rb')\n",
    "\n",
    "#Recibe lista de keypoints de una imagen, crea los objetos KP de openCV\n",
    "def genKeyPoints( kp_img ):\n",
    "    keypoints = list()\n",
    "    for kp in kp_img:\n",
    "        keypoints.append(cv.KeyPoint(kp[0], kp[1], kp[2]))\n",
    "    return keypoints\n",
    "\n",
    "args = pickle.load(pickle_file)\n",
    "desc_imgs = pickle.load(pickle_file)\n",
    "\n",
    "indexes = range(len(desc_imgs))\n",
    "for i in indexes:\n",
    "    name_img = desc_imgs[i][2]\n",
    "    imagen = path.abspath(image_dir + name_img)\n",
    "    img = cv.imread(imagen, cv.COLOR_BGR2GRAY)\n",
    "    keypoints = genKeyPoints(desc_imgs[i][0])\n",
    "    img=cv.drawKeypoints(img,keypoints,img,flags=cv.DRAW_MATCHES_FLAGS_DRAW_RICH_KEYPOINTS)\n",
    "    cv.imwrite(image_dir_out+name_img,img) #Guarda las imagenes en la ruta \n",
    "    \n",
    "#Checar primer parámetro, que sea en grises para exportar?"
   ]
  },
  {
   "cell_type": "code",
   "execution_count": null,
   "metadata": {},
   "outputs": [],
   "source": []
  }
 ],
 "metadata": {
  "kernelspec": {
   "display_name": "Python 3",
   "language": "python",
   "name": "python3"
  },
  "language_info": {
   "codemirror_mode": {
    "name": "ipython",
    "version": 3
   },
   "file_extension": ".py",
   "mimetype": "text/x-python",
   "name": "python",
   "nbconvert_exporter": "python",
   "pygments_lexer": "ipython3",
   "version": "3.7.7"
  }
 },
 "nbformat": 4,
 "nbformat_minor": 4
}
