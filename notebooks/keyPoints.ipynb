{
 "cells": [
  {
   "cell_type": "markdown",
   "metadata": {},
   "source": [
    "## Ejecutar las siguientes líneas"
   ]
  },
  {
   "cell_type": "code",
   "execution_count": 133,
   "metadata": {},
   "outputs": [],
   "source": [
    "import sys\n",
    "from os import path, mkdir, listdir, chdir\n",
    "import pickle\n",
    "import cv2 as cv\n",
    "import ipywidgets as widgets\n",
    "from ipywidgets import interact, interact_manual\n",
    "import matplotlib.pyplot as plt\n",
    "from skimage import io\n",
    "import pandas as pd\n",
    "import numpy as np\n",
    "\n",
    "modulos_path = path.abspath('../minIA')\n",
    "if modulos_path not in sys.path:\n",
    "    sys.path.append(modulos_path)\n",
    "    \n",
    "from utiles import lectura_img\n",
    "import random\n",
    "random.seed(42)\n",
    "from collections import Counter\n"
   ]
  },
  {
   "cell_type": "code",
   "execution_count": null,
   "metadata": {},
   "outputs": [],
   "source": [
    "#Recibe lista de keypoints de una imagen, crea los objetos KP de openCV\n",
    "def genKeyPoints( kp_img ):\n",
    "    keypoints = list()\n",
    "    for kp in kp_img:\n",
    "        keypoints.append(cv.KeyPoint(kp[0], kp[1], kp[2]))\n",
    "    return keypoints"
   ]
  },
  {
   "cell_type": "markdown",
   "metadata": {},
   "source": [
    "## Visualización tópicos\n",
    "\n",
    "El siguiente codigo carga los tópicos y elementos de la figura para mostrar los archivos"
   ]
  },
  {
   "cell_type": "code",
   "execution_count": 63,
   "metadata": {},
   "outputs": [
    {
     "data": {
      "application/vnd.jupyter.widget-view+json": {
       "model_id": "374f372953c244fcb1e00d20e91fade4",
       "version_major": 2,
       "version_minor": 0
      },
      "text/plain": [
       "interactive(children=(Dropdown(description='topics_path', options=(('index_inv_full_dataset_v2_SIFT.r4l10000o0…"
      ]
     },
     "metadata": {},
     "output_type": "display_data"
    }
   ],
   "source": [
    "@interact_manual\n",
    "def load_topicos(\n",
    "    topics_path=[(file,path.join(\"/media/working/minia/minhash/\",file)) for file in listdir(\"/media/working/minia/minhash/\") if file.endswith(\".models\")],\n",
    "    centXimg='/media/working/minia/descriptores/labels_full_dataset_v2_SIFT.pickle',\n",
    "    descr_kp='/media/working/minia/descriptores/full_dataset_v2_SIFT.pickle', \n",
    "    image_dir='/media/working/minia/images/images_training_rev1/'):\n",
    "    global topics\n",
    "    global len_topics\n",
    "    global images_descr\n",
    "    global desc_kp\n",
    "    global etiquetas\n",
    "    global dir_out\n",
    "    global dir_img\n",
    "    global topics_lenght\n",
    "    \n",
    "    topics = open(topics_path, 'r')\n",
    "    topics= topics.readlines()\n",
    "    topics_lenght=[]\n",
    "    for line in topics:\n",
    "        centroides = line.strip().split()[1:]\n",
    "        centroides = [ int(cent.split(':')[0]) for cent in centroides]\n",
    "        topics_lenght.append(len(centroides))\n",
    "        \n",
    "    len_topics=len(topics)\n",
    "    \n",
    "    pickle_file = open(centXimg,'rb')\n",
    "    images_descr = pickle.load(pickle_file)\n",
    "    pickle_file.close()\n",
    "    \n",
    "    pickle_file = open(path.abspath(descr_kp), 'rb')  \n",
    "    args = pickle.load(pickle_file)\n",
    "    desc_kp = pickle.load(pickle_file)\n",
    "    pickle_file.close()\n",
    "    \n",
    "    dir_img=image_dir\n",
    "\n",
    "    print('#Topics: '+ str(len_topics))\n",
    "    print('Model name:',topics_path)"
   ]
  },
  {
   "cell_type": "code",
   "execution_count": 64,
   "metadata": {},
   "outputs": [],
   "source": [
    "def indicesTopicos (centroides, images_descr,threshold=0.7,threshold2=0.7, binary=True):\n",
    "    tam_cents = len(centroides)\n",
    "    centroides_= centroides\n",
    "    img_index = 0\n",
    "    images = list()\n",
    "    for idesc,descrp in enumerate(images_descr[0]):\n",
    "        descp_ = dict([(ic,i) for i,ic in enumerate(descrp)])\n",
    "        key_points= [desc_kp[idesc]['keypoints'][kp] for kp in [ descp_[ic] for ic in descrp]]\n",
    "        keypoints_ = genKeyPoints(key_points)\n",
    "        new_descrp=Counter()\n",
    "        for i,curKey in enumerate(keypoints_):\n",
    "            if descrp[i] in new_descrp:\n",
    "                new_descrp[descrp[i]]+= np.int(curKey.size)+1\n",
    "            else:\n",
    "                new_descrp[descrp[i]] = np.int(curKey.size)+1\n",
    "        if binary:\n",
    "            new_descrp=Counter(new_descrp.keys())\n",
    "        \n",
    "        inter=centroides_ & new_descrp\n",
    "        overlap=sum(inter.values())/min(sum(centroides_.values()),sum(new_descrp.values()))\n",
    "        if overlap >= threshold and sum(inter.values()) >= threshold2:\n",
    "            images.append((img_index,[ (descp_[ic],v) for ic,v in inter.items()],overlap))\n",
    "        #Overlaping\n",
    "        #max_ = round( min(tam_descp, tam_cents)*.30 ) #Requiere un 30%\n",
    "        #posc_index = 0\n",
    "        #posc = list()\n",
    "        #for cent in descrp:\n",
    "        #    if cent in centroides:\n",
    "        #        posc.append(posc_index)\n",
    "        #    posc_index += 1\n",
    "        #if len(posc) > max_ : #No puede ser >= porque max_ puede ser cero\n",
    "        #    images.append((img_index ,posc)) #Añade una tupla, del indice de la imagen y los indices de los KP\n",
    "        img_index += 1\n",
    "    return images"
   ]
  },
  {
   "cell_type": "markdown",
   "metadata": {},
   "source": [
    "## Ver contenido de tópico\n",
    "\n",
    "Seleccionar el tópico para ver el contenido, id de cluster y pesos"
   ]
  },
  {
   "cell_type": "code",
   "execution_count": 65,
   "metadata": {},
   "outputs": [
    {
     "data": {
      "application/vnd.jupyter.widget-view+json": {
       "model_id": "20a6e75904184ed7af32347282521372",
       "version_major": 2,
       "version_minor": 0
      },
      "text/plain": [
       "interactive(children=(Dropdown(description='Topics', options=(('0 [size 467]', 0), ('1 [size 896]', 1), ('2 [s…"
      ]
     },
     "metadata": {},
     "output_type": "display_data"
    }
   ],
   "source": [
    "@interact_manual\n",
    "def inspect_topicos(Topics=[(f\"{i} [size {z}]\",i) for i,z in zip(range(len_topics),topics_lenght)], binary=True):\n",
    "    global lista_imgs\n",
    "    global num_topic\n",
    "    global name_images\n",
    "    \n",
    "    num_topic= Topics\n",
    "    centroides = topics[Topics].split()[1:]\n",
    "    centroides = Counter(dict([ tuple(int(x) for x in cent.split(':')) for cent in centroides]))\n",
    "    if binary:\n",
    "        centroides = Counter(centroides.keys())\n",
    "    for c,v in centroides.items():\n",
    "        print(f\"{c}:{v}\")\n",
    "    print('#Len topic: '+str(len(centroides)))\n",
    "    print('#Mass topic: '+str(sum(centroides.values())))"
   ]
  },
  {
   "cell_type": "markdown",
   "metadata": {},
   "source": [
    "## Elegir tópico\n",
    "\n",
    "Este código permite elejir el tópico, el número de imágnes dónde buscar el código y el threshold a usar para considerar que un tópico esta presente o no en la imagen (topicos con números pequeños usar 1.0)"
   ]
  },
  {
   "cell_type": "code",
   "execution_count": 66,
   "metadata": {
    "scrolled": true
   },
   "outputs": [
    {
     "data": {
      "application/vnd.jupyter.widget-view+json": {
       "model_id": "bb6689085dc04bb291cbee11b09a35f5",
       "version_major": 2,
       "version_minor": 0
      },
      "text/plain": [
       "interactive(children=(Dropdown(description='Topics', options=(('0 [size 467]', 0), ('1 [size 896]', 1), ('2 [s…"
      ]
     },
     "metadata": {},
     "output_type": "display_data"
    }
   ],
   "source": [
    "@interact_manual\n",
    "def choose_topicos(Topics=[(f\"{i} [size {z}]\",i) for i,z in zip(range(len_topics),topics_lenght)],\n",
    "                   num_imgs= (0, int(len(images_descr)/1), 5), \n",
    "                   threshold = (0.001, 1.0, 0.01),\n",
    "                   mass = (0, 300, 1),\n",
    "                   binary=True):\n",
    "    global lista_imgs\n",
    "    global num_topic\n",
    "    global name_images\n",
    "    \n",
    "    num_topic= Topics\n",
    "    centroides = topics[Topics].split()[1:]\n",
    "    centroides = Counter(dict([ tuple(int(x) for x in cent.split(':')) for cent in centroides]))\n",
    "    if binary:\n",
    "        centroides = Counter(centroides.keys())\n",
    "    lista_imgs = indicesTopicos (centroides, images_descr[0:num_imgs], threshold=threshold, threshold2=mass, binary=binary)\n",
    "    \n",
    "    imgs_index=[imgs[0] for imgs in lista_imgs]\n",
    "    aux=0\n",
    "    name_images=[]\n",
    "    for ii,i in enumerate(imgs_index):\n",
    "        imagen = path.abspath(dir_img + desc_kp[i]['name_img'])\n",
    "        name_images.append((desc_kp[i]['name_img'],aux,i,lista_imgs[ii][1],lista_imgs[ii][2]))\n",
    "        aux+=1\n",
    "        \n",
    "    print('#Images: '+str(len(lista_imgs)))\n",
    "    print('#Len topic: '+str(len(centroides)))\n",
    "    print('#Mass topic: '+str(sum(centroides.values())))"
   ]
  },
  {
   "cell_type": "markdown",
   "metadata": {},
   "source": [
    "## Visualizando ejemplos del tópico\n",
    "\n",
    "Se muestran ejemplos de imágenes que contiene el tópico seleccionado en la parte [anterior](http://minhashing.ngrok.io/notebooks/minIA/notebooks/keyPoints.ipynb#Elegir-t%C3%B3pico)"
   ]
  },
  {
   "cell_type": "code",
   "execution_count": null,
   "metadata": {},
   "outputs": [
    {
     "data": {
      "application/vnd.jupyter.widget-view+json": {
       "model_id": "208136a4950a4cc891bb34bd0ad67ffe",
       "version_major": 2,
       "version_minor": 0
      },
      "text/plain": [
       "interactive(children=(Dropdown(description='img', options=((0, ('770167.jpg', 0, 6694, [(8, 25), (9, 25), (7, …"
      ]
     },
     "metadata": {},
     "output_type": "display_data"
    }
   ],
   "source": [
    "plt.rcParams[\"figure.figsize\"] = (10,5)\n",
    "plt.rcParams['figure.dpi'] = 160\n",
    "\n",
    "@interact\n",
    "def show_images_per_topic(img=[(aux,(img,aux,i,v,o)) for img,aux,i,v,o in name_images],gray=True):\n",
    "    img,aux,i,v,o=img\n",
    "    if aux-5 < 0:\n",
    "        aux=5\n",
    "    if aux+5 > len(name_images):\n",
    "        aux=len(name_images)-5\n",
    "    min_=max(0,aux-5)\n",
    "    max_=min(len(name_images),aux+5)\n",
    "    fig, axs = plt.subplots(2,5)\n",
    "    for ii in range(min_,max_):\n",
    "        img,aux,i,vals,overlap=name_images[ii]\n",
    "        imagen = path.abspath(dir_img + img)\n",
    "        img = cv.imread(imagen)\n",
    "        key_points= [desc_kp[i]['keypoints'][kp] for kp,v in vals]\n",
    "        keypoints = genKeyPoints(key_points)\n",
    "        if gray:\n",
    "            gray_= cv.cvtColor(img,cv.COLOR_BGR2GRAY)\n",
    "            img= cv.cvtColor(gray_,cv.COLOR_GRAY2BGR)\n",
    "        else:\n",
    "            img=img\n",
    "        for j,curKey in enumerate(keypoints):\n",
    "            x=np.int(curKey.pt[0])\n",
    "            y=np.int(curKey.pt[1])\n",
    "            img=cv.circle(img,(x,y),vals[j][1],color=(255,0,0),thickness=1, lineType=0, shift=0)\n",
    "        \n",
    "        x=ii-min_\n",
    "        y=x%5\n",
    "        x=int(x/5)\n",
    "        axs[x,y].set_yticklabels([])\n",
    "        axs[x,y].set_xticklabels([])\n",
    "        axs[x,y].set_xlabel(f'{ii}, {overlap:0.3}, #{i}')\n",
    "        axs[x,y].imshow(img)"
   ]
  },
  {
   "cell_type": "markdown",
   "metadata": {},
   "source": [
    "## Ver una imágen"
   ]
  },
  {
   "cell_type": "code",
   "execution_count": 32,
   "metadata": {
    "scrolled": false
   },
   "outputs": [
    {
     "data": {
      "application/vnd.jupyter.widget-view+json": {
       "model_id": "e4e78c7f398547bcb050061ae14db473",
       "version_major": 2,
       "version_minor": 0
      },
      "text/plain": [
       "interactive(children=(Text(value='9145', description='image'), FloatSlider(value=0.5, description='threshold',…"
      ]
     },
     "metadata": {},
     "output_type": "display_data"
    }
   ],
   "source": [
    "@interact_manual\n",
    "def choose_topicos(image=str(random.choice(range(1,len(images_descr)))),\n",
    "                   threshold = (0.01, 1.0, 0.01),\n",
    "                   mass= (0, 300, 1),\n",
    "                   text=True,binary=True,gray=True):\n",
    "    global lista_imgs\n",
    "    global topics\n",
    "    global name_images\n",
    "    global images_descr\n",
    "    cmap=plt.get_cmap(\"hsv\")\n",
    "\n",
    "    descrp=images_descr.iloc[int(image)][0]\n",
    "    descp_ = dict([(ic,i) for i,ic in enumerate(descrp)])\n",
    "    img=images_descr.iloc[int(image)][1]\n",
    "    key_points= [desc_kp[int(image)]['keypoints'][kp] for kp in [ descp_[ic] for ic in descrp]]\n",
    "    keypoints_ = genKeyPoints(key_points)\n",
    "    new_descrp=Counter()\n",
    "    for i,curKey in enumerate(keypoints_):\n",
    "        if descrp[i] in new_descrp:\n",
    "                new_descrp[descrp[i]]+= np.int(curKey.size)+1\n",
    "        else:\n",
    "                new_descrp[descrp[i]] = np.int(curKey.size)+1\n",
    "    descrp = new_descrp\n",
    "    if binary:\n",
    "        descrp = Counter(descrp.keys())\n",
    "    tam_descp = len(descrp)\n",
    "    topics_in_image= []\n",
    "    \n",
    "    imagen = path.abspath(dir_img + img)\n",
    "    img = cv.imread(imagen)\n",
    "    if gray:\n",
    "        gray= cv.cvtColor(img,cv.COLOR_BGR2GRAY)\n",
    "        gray= cv.cvtColor(gray,cv.COLOR_GRAY2BGR)\n",
    "    else:\n",
    "        gray=img\n",
    "    keypoints=[]\n",
    "    for itopic, topic in enumerate(range(len(topics))):\n",
    "        color=tuple(int(c*256) for c in cmap(topic/len(topics))[:3])\n",
    "        centroides = topics[topic].split()[1:]\n",
    "        centroides = Counter(dict([ tuple(int(x) for x in cent.split(':')) for cent in centroides]))\n",
    "        if binary:\n",
    "            centroides = Counter(centroides.keys())\n",
    "    \n",
    "        inter=centroides & descrp\n",
    "        overlap=sum(inter.values())/min(sum(centroides.values()),sum(descrp.values()))\n",
    "        \n",
    "        if overlap >= threshold and sum(inter.values()) >= mass:\n",
    "            key_points= [(desc_kp[int(image)]['keypoints'][kp],v) for kp,v in [ (descp_[ic],v) for ic,v in inter.items()]]\n",
    "            keypoints_ = genKeyPoints([x for x,y in key_points])\n",
    "            for i,curKey in enumerate(keypoints_):\n",
    "                x=np.int(curKey.pt[0])\n",
    "                y=np.int(curKey.pt[1])\n",
    "                size = np.int(curKey.size)\n",
    "                gray=cv.circle(gray,(x,y),key_points[i][1],color=color,thickness=1, lineType=0, shift=0)\n",
    "                if text:\n",
    "                    gray=cv.putText(gray,f\"{topic}\",(x,y),cv.FONT_HERSHEY_SIMPLEX ,0.3,color,1, cv.LINE_AA)\n",
    "            topics_in_image.append((itopic,overlap,sum(inter.values()),sum(centroides.values()),sum(descrp.values())))\n",
    "            \n",
    "    plt.imshow(gray, cmap=cmap)\n",
    "    topics_in_image = sorted(topics_in_image, key=lambda tup: tup[1])\n",
    "    for i,o,inter,cen,im in topics_in_image:\n",
    "        print(f\"#{i}: {o:0.3} = {inter}/min({cen},{im})\")\n",
    "    "
   ]
  },
  {
   "cell_type": "code",
   "execution_count": null,
   "metadata": {},
   "outputs": [],
   "source": []
  }
 ],
 "metadata": {
  "kernelspec": {
   "display_name": "Python 3",
   "language": "python",
   "name": "python3"
  },
  "language_info": {
   "codemirror_mode": {
    "name": "ipython",
    "version": 3
   },
   "file_extension": ".py",
   "mimetype": "text/x-python",
   "name": "python",
   "nbconvert_exporter": "python",
   "pygments_lexer": "ipython3",
   "version": "3.6.9"
  }
 },
 "nbformat": 4,
 "nbformat_minor": 4
}
