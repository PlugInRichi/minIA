{
 "cells": [
  {
   "cell_type": "code",
   "execution_count": 7,
   "metadata": {},
   "outputs": [],
   "source": [
    "from __future__ import absolute_import\n",
    "from __future__ import division\n",
    "from __future__ import print_function\n",
    "\n",
    "import argparse\n",
    "import os\n",
    "import sys\n",
    "import time\n",
    "\n",
    "import numpy as np\n",
    "from six.moves import range\n",
    "import tensorflow as tf\n",
    "\n",
    "from google.protobuf import text_format\n",
    "from tensorflow.python.platform import app\n",
    "from delf import delf_config_pb2\n",
    "from delf import feature_io\n",
    "from delf import utils\n",
    "from delf import extractor\n",
    "\n",
    "import delf as df\n",
    "\n",
    "import sys\n",
    "import os.path as path\n",
    "\n",
    "modulos_path = path.abspath('../minIA')\n",
    "if modulos_path not in sys.path:\n",
    "    sys.path.append(modulos_path)\n",
    "\n",
    "from utiles import lectura_img\n",
    "import numpy as np\n",
    "\n",
    "import pickle\n",
    "import cv2 as cv\n",
    "import matplotlib.pyplot as plt\n",
    "\n",
    "import ipywidgets as widgets\n",
    "from ipywidgets import interact, interact_manual"
   ]
  },
  {
   "cell_type": "markdown",
   "metadata": {},
   "source": [
    "https://github.com/tensorflow/models/blob/master/research/delf/delf/python/examples/extract_features.py"
   ]
  },
  {
   "cell_type": "markdown",
   "metadata": {},
   "source": [
    "## Definición de extractor"
   ]
  },
  {
   "cell_type": "code",
   "execution_count": 4,
   "metadata": {},
   "outputs": [],
   "source": [
    "# Pace to report extraction log.\n",
    "_STATUS_CHECK_ITERATIONS = 10\n",
    "\n",
    "def extractorDELF(image_dir, config_path, output_dir, name_pickle):\n",
    "    \n",
    "  # Read list of images.\n",
    "    print('Reading list of images...')\n",
    "    image_paths = lectura_img(image_dir)\n",
    "    num_images = len(image_paths)\n",
    "    print(f'Done! Found {num_images} images')\n",
    "\n",
    "  # Parse DelfConfig proto.\n",
    "    config = delf_config_pb2.DelfConfig()\n",
    "    with tf.io.gfile.GFile(config_path, 'r') as f:\n",
    "        text_format.Merge(f.read(), config)\n",
    "\n",
    "  # Create output directory if necessary.\n",
    "    if not tf.io.gfile.exists(output_dir):\n",
    "        tf.io.gfile.makedirs(output_dir)\n",
    "    \n",
    "  #Create pickle file\n",
    "    path_pickle = path.abspath(output_dir+'//'+name_pickle)\n",
    "    pickle_file = open(path_pickle, 'wb')\n",
    "\n",
    "  #Create lista de descriptor por imagen\n",
    "    descriptors = list()\n",
    "    \n",
    "  #Crea el extractor\n",
    "    extractor_fn = extractor.MakeExtractor(config)\n",
    "\n",
    "    start = time.time()\n",
    "    for i in range(num_images):\n",
    "    # Report progress once in a while.\n",
    "        if i == 0:\n",
    "            print('Starting to extract DELF features from images...')\n",
    "        elif i % _STATUS_CHECK_ITERATIONS == 0:\n",
    "            elapsed = (time.time() - start)\n",
    "            print(\n",
    "                f'Processing image {i} out of {num_images}, last '\n",
    "                f'{_STATUS_CHECK_ITERATIONS} images took {elapsed} seconds'\n",
    "            )\n",
    "            start = time.time()\n",
    "            \n",
    "      #Carga las imágenes\n",
    "        im = np.array(utils.RgbLoader(image_paths[i]))\n",
    "\n",
    "      # Extract features.\n",
    "        extracted_features = extractor_fn(im)\n",
    "        \n",
    "      # Save features.\n",
    "        nom_img = path.split(image_paths[i])[1]\n",
    "        extracted_features['local_features']['name_img'] = nom_img\n",
    "        descriptors.append(extracted_features['local_features'])\n",
    "    pickle.dump(descriptors, pickle_file)\n",
    "    print(\"Termino\")\n",
    "    return descriptors"
   ]
  },
  {
   "cell_type": "code",
   "execution_count": 5,
   "metadata": {},
   "outputs": [
    {
     "name": "stdout",
     "output_type": "stream",
     "text": [
      "Reading list of images...\n",
      "Done! Found 31 images\n",
      "Starting to extract DELF features from images...\n",
      "Processing image 10 out of 31, last 10 images took 46.38798213005066 seconds\n",
      "Processing image 20 out of 31, last 10 images took 2.3418498039245605 seconds\n",
      "Processing image 30 out of 31, last 10 images took 2.372201919555664 seconds\n",
      "Termino\n"
     ]
    }
   ],
   "source": [
    "#Output incluye el nombre del archivo\n",
    "image_dir = '/home/rick/Proyectos/minIA/images/grupoDELF/'\n",
    "config_path = 'D:\\Archivos\\Proyectos\\minIA\\\\notebooks\\delf_config_example.pbtxt'\n",
    "config_path_galaxy = '/home/rick/Proyectos/models/research/delf/delf/python/examples/delf_config_galaxy.pbtxt'\n",
    "output_dir = '/home/rick/Proyectos/images/descr_DELF/'\n",
    "name_pickle = 'DELF_galaxy.pickle'\n",
    "descrip = extractorDELF(image_dir, config_path_galaxy, output_dir, name_pickle)"
   ]
  },
  {
   "cell_type": "markdown",
   "metadata": {},
   "source": [
    "### Rutas de búsqueda de imágenes"
   ]
  },
  {
   "cell_type": "code",
   "execution_count": 42,
   "metadata": {},
   "outputs": [
    {
     "name": "stdout",
     "output_type": "stream",
     "text": [
      "Nombre la de imagen: 100367.jpg\n",
      "Número de coordenadas (uno por cada Key Point): 24\n",
      "Número de tamaños (uno por cada Key Point): 24\n",
      "Número de descriptores en la imagen (uno por cada Key Point): 24\n",
      "Número de puntuaciones (uno por cada Key Point): 24\n",
      "\n",
      "\n",
      "Datos para el KP i\n",
      "Coordenadas:  [ 80. 208.]\n",
      "Tamaño:  0.5\n",
      "Descriptor:  [-0.03637617 -0.06618628 -0.07843558 -0.1447306  -0.04646507  0.03143152\n",
      " -0.03132346  0.14714745 -0.00482944 -0.12908773  0.03126663  0.19503698\n",
      "  0.03655569  0.08701941 -0.11849143 -0.01943127 -0.05360663  0.0191771\n",
      " -0.18015401  0.07055832  0.02661106  0.11522198  0.12514605  0.02480998\n",
      "  0.1807517  -0.06653397 -0.12351301 -0.0959925  -0.03570505 -0.0460811\n",
      "  0.03036549  0.03807633  0.016379    0.07855871 -0.01967176 -0.13714121\n",
      " -0.03351973 -0.0200255  -0.09031926  0.00285079  0.06439216 -0.04406908\n",
      " -0.05217098 -0.00895576  0.027944   -0.14479221 -0.11643306  0.13982198\n",
      " -0.02958345 -0.02325598  0.050595    0.02673974  0.08435667 -0.16061065\n",
      " -0.10811599 -0.10888302  0.01163174 -0.06309929 -0.11701253  0.04881974\n",
      "  0.17456257  0.1828755   0.00367555  0.08380092  0.10260691  0.03701652\n",
      " -0.11466346 -0.1081813  -0.04597102 -0.06844176  0.10794965  0.00657923\n",
      "  0.0286426   0.01838399 -0.01849641 -0.137202   -0.10031899 -0.04342063\n",
      "  0.11604358  0.04847771 -0.0602009  -0.04751249 -0.05521047 -0.21239501\n",
      " -0.02531574 -0.15989083 -0.16031693  0.10394623 -0.07047106  0.15362726\n",
      "  0.06980125  0.06313419 -0.1391508  -0.09190436 -0.0819933  -0.074696\n",
      " -0.03640727 -0.07602562 -0.03731965  0.01092986  0.06710158 -0.03446274\n",
      " -0.0425269  -0.02788618  0.00350586  0.09396329 -0.12044598 -0.02803005\n",
      " -0.0989759  -0.10416377 -0.02427492  0.11056014  0.03123129 -0.03770785\n",
      "  0.15414822  0.09076909 -0.0633437  -0.10348024 -0.03420414  0.04217507\n",
      " -0.08586301 -0.01903258 -0.04091072  0.13525467  0.11921172 -0.06184456\n",
      "  0.05322539 -0.00130835]\n",
      "Puntuacion:  150.90387\n",
      "Tamaño min:  0.5 Tamaño max:  2.0\n"
     ]
    }
   ],
   "source": [
    "descr_0 = descrip[9]\n",
    "print(\"Nombre la de imagen:\",descr_0['name_img'])\n",
    "print(\"Número de coordenadas (uno por cada Key Point):\", len(descr_0['locations']))\n",
    "print(\"Número de tamaños (uno por cada Key Point):\",len(descr_0['scales']))\n",
    "print(\"Número de descriptores en la imagen (uno por cada Key Point):\", len(descr_0['descriptors']))\n",
    "print(\"Número de puntuaciones (uno por cada Key Point):\",len(descr_0['attention']))\n",
    "\n",
    "print(\"\\n\\nDatos para el KP i\")\n",
    "i=3\n",
    "print(\"Coordenadas: \", descr_0['locations'][i])\n",
    "print(\"Tamaño: \",descr_0['scales'][i])\n",
    "print(\"Descriptor: \", descr_0['descriptors'][i])\n",
    "print(\"Puntuacion: \", descr_0['attention'][i])\n",
    "\n",
    "print(\"Tamaño min: \",min(descr_0['scales']), \"Tamaño max: \", max(descr_0['scales']))"
   ]
  },
  {
   "cell_type": "markdown",
   "metadata": {},
   "source": [
    "### Creación de puntos de interés"
   ]
  },
  {
   "cell_type": "code",
   "execution_count": 18,
   "metadata": {},
   "outputs": [],
   "source": [
    "\n",
    "#Recibe lista de keypoints de una imagen\n",
    "def genKeyPoints( kp_img ):\n",
    "    keypoints = list()\n",
    "    for i in range (len(kp_img['locations'])):\n",
    "        keypoints.append(cv.KeyPoint(kp_img['locations'][i][1], kp_img['locations'][i][0], 5*kp_img['scales'][i]))\n",
    "    return keypoints"
   ]
  },
  {
   "cell_type": "code",
   "execution_count": 41,
   "metadata": {},
   "outputs": [
    {
     "data": {
      "application/vnd.jupyter.widget-view+json": {
       "model_id": "8889bfcb01f94313aa7e2cb8d9c4d369",
       "version_major": 2,
       "version_minor": 0
      },
      "text/plain": [
       "interactive(children=(Dropdown(description='image', options=(0, 1, 2, 3, 4, 5, 6, 7, 8, 9, 10, 11, 12, 13, 14,…"
      ]
     },
     "metadata": {},
     "output_type": "display_data"
    }
   ],
   "source": [
    "@interact\n",
    "def show_images_per_descriptors(image = [ i for i in range (len(descrip))]):\n",
    "    descr = descrip[image]\n",
    "    imagen = path.abspath(image_dir+'/'+descr['name_img'])\n",
    "    print(imagen)\n",
    "    img = cv.imread(imagen)\n",
    "    gray= cv.cvtColor(img,cv.COLOR_BGR2GRAY)\n",
    "    keypoints = genKeyPoints(descr) \n",
    "    img=cv.drawKeypoints(img,keypoints,img,flags=cv.DRAW_MATCHES_FLAGS_DRAW_RICH_KEYPOINTS) #Aqui no quitar\n",
    "    cv.imwrite(output_dir+'\\\\'+descr['name_img'],img)\n",
    "\n",
    "    plt.figure(figsize=(20,8))\n",
    "    plt.imshow(img)"
   ]
  }
 ],
 "metadata": {
  "kernelspec": {
   "display_name": "Python 3",
   "language": "python",
   "name": "python3"
  },
  "language_info": {
   "codemirror_mode": {
    "name": "ipython",
    "version": 3
   },
   "file_extension": ".py",
   "mimetype": "text/x-python",
   "name": "python",
   "nbconvert_exporter": "python",
   "pygments_lexer": "ipython3",
   "version": "3.6.9"
  }
 },
 "nbformat": 4,
 "nbformat_minor": 4
}
