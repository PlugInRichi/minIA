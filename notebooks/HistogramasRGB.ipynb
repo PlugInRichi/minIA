{
 "cells": [
  {
   "cell_type": "markdown",
   "metadata": {},
   "source": [
    "# Descripción:\n",
    "\n",
    "Histogramas por canal de color"
   ]
  },
  {
   "cell_type": "code",
   "execution_count": 22,
   "metadata": {},
   "outputs": [],
   "source": [
    "import sys\n",
    "from os import path\n",
    "from ipywidgets import interact, interact_manual\n",
    "import matplotlib.pyplot as plt\n",
    "from skimage import io, exposure, img_as_float\n",
    "import numpy as np\n",
    "\n",
    "modulos_path = path.abspath('../minIA')\n",
    "if modulos_path not in sys.path:\n",
    "    sys.path.append(modulos_path)\n",
    "    \n",
    "from utiles import lectura_img"
   ]
  },
  {
   "cell_type": "code",
   "execution_count": 23,
   "metadata": {},
   "outputs": [
    {
     "data": {
      "application/vnd.jupyter.widget-view+json": {
       "model_id": "a08f28d98c49485c856b023fab5b091b",
       "version_major": 2,
       "version_minor": 0
      },
      "text/plain": [
       "interactive(children=(Text(value='/media/working/minia/images/images_training_rev1/', description='path_images…"
      ]
     },
     "metadata": {},
     "output_type": "display_data"
    }
   ],
   "source": [
    "@interact_manual\n",
    "def load_images(path_images='/media/working/minia/images/images_training_rev1/',  size=(0, 1000, 50)):\n",
    "    global dir_img\n",
    "    \n",
    "    list_path_images = lectura_img(path_images)\n",
    "    sample_indx= np.random.choice(len(list_path_images), size, replace=False)\n",
    "    sample=[list_path_images[i] for i in sample_indx]\n",
    "    dir_img=sample\n",
    "    print('Listo!' )\n",
    "    "
   ]
  },
  {
   "cell_type": "code",
   "execution_count": 28,
   "metadata": {},
   "outputs": [
    {
     "data": {
      "application/vnd.jupyter.widget-view+json": {
       "model_id": "1013cc8ad10e403d8f114c026fe1874e",
       "version_major": 2,
       "version_minor": 0
      },
      "text/plain": [
       "interactive(children=(Dropdown(description='img', options=('/media/working/minia/images/images_training_rev1/2…"
      ]
     },
     "metadata": {},
     "output_type": "display_data"
    }
   ],
   "source": [
    "@interact\n",
    "def show_histograms(img=dir_img):\n",
    "    image = img_as_float(io.imread(path.abspath(img)))\n",
    "    \n",
    "    fig=plt.figure()\n",
    "    plt.imshow(image)\n",
    "    plt.show()\n",
    "    \n",
    "    for i in [0,1,2]:\n",
    "        ch= image[2][0:len(image), i]\n",
    "        hist_img,bins =exposure.histogram(ch, 10)\n",
    "        fig=plt.figure(figsize=(12,4.5))\n",
    "        ax1=fig.add_subplot(121)\n",
    "        ax2=fig.add_subplot(122)\n",
    "        ax1.imshow(exposure.histogram(ch, 10))\n",
    "        ax2.plot(bins, hist_img / hist_img.max())\n",
    "        plt.title('Histograma canal '+str(i))\n",
    "        plt.show()\n",
    "        \n",
    "    hist_img_2,bins =exposure.histogram(image, 10) #Histograma de toda la imagen\n",
    "    fig=plt.figure(figsize=(12,4.5))\n",
    "    ax1=fig.add_subplot(121)\n",
    "    ax2=fig.add_subplot(122)\n",
    "    ax1.imshow(exposure.histogram(image, 10))\n",
    "    ax2.plot(bins, hist_img_2 / hist_img_2.max())\n",
    "    plt.title('Histograma RGB')\n",
    "    plt.show()        "
   ]
  }
 ],
 "metadata": {
  "kernelspec": {
   "display_name": "Python 3",
   "language": "python",
   "name": "python3"
  },
  "language_info": {
   "codemirror_mode": {
    "name": "ipython",
    "version": 3
   },
   "file_extension": ".py",
   "mimetype": "text/x-python",
   "name": "python",
   "nbconvert_exporter": "python",
   "pygments_lexer": "ipython3",
   "version": "3.6.9"
  }
 },
 "nbformat": 4,
 "nbformat_minor": 2
}
