{
 "cells": [
  {
   "cell_type": "markdown",
   "metadata": {},
   "source": [
    "# Descripción:\n",
    "\n",
    "Histogramas por canal de color"
   ]
  },
  {
   "cell_type": "code",
   "execution_count": 1,
   "metadata": {},
   "outputs": [],
   "source": [
    "import sys\n",
    "from os import path\n",
    "from ipywidgets import interact, interact_manual\n",
    "import matplotlib.pyplot as plt\n",
    "from skimage import io, exposure, img_as_float\n",
    "import numpy as np\n",
    "import cv2 as cv\n",
    "import scipy.ndimage as ndi\n",
    "\n",
    "modulos_path = path.abspath('../minIA')\n",
    "if modulos_path not in sys.path:\n",
    "    sys.path.append(modulos_path)\n",
    "    \n",
    "from utiles import lectura_img"
   ]
  },
  {
   "cell_type": "markdown",
   "metadata": {},
   "source": [
    "Seleccionar imagenes al azar"
   ]
  },
  {
   "cell_type": "code",
   "execution_count": 2,
   "metadata": {},
   "outputs": [
    {
     "data": {
      "application/vnd.jupyter.widget-view+json": {
<<<<<<< HEAD
       "model_id": "4336a625c87b49e89e982217bb50efbc",
=======
       "model_id": "d886849e620f4970a349cf421d2a52f5",
>>>>>>> 47e93dfc43986f1738ea0ea9b22df6fa7de9f80c
       "version_major": 2,
       "version_minor": 0
      },
      "text/plain": [
       "interactive(children=(Text(value='/media/working/minia/images/images_training_rev1/', description='path_images…"
      ]
     },
     "metadata": {},
     "output_type": "display_data"
    }
   ],
   "source": [
    "@interact_manual\n",
    "def load_images(path_images='/media/working/minia/images/images_training_rev1/',  size=(0, 1000, 50)):\n",
    "    global dir_img\n",
    "    global list_path_images\n",
    "    \n",
    "    list_path_images = lectura_img(path_images)\n",
    "    sample_indx= np.random.choice(len(list_path_images), size, replace=False)\n",
    "    sample=[list_path_images[i] for i in sample_indx]\n",
    "    dir_img=sample\n",
    "    print('Listo!' )\n",
    "    "
   ]
  },
  {
   "cell_type": "code",
   "execution_count": 4,
   "metadata": {},
   "outputs": [
    {
     "data": {
      "application/vnd.jupyter.widget-view+json": {
<<<<<<< HEAD
       "model_id": "0039d593b8ac46ff8ea9b90e7a90cf59",
=======
       "model_id": "fdf220083f684e4087310ff92ce3b4eb",
>>>>>>> 47e93dfc43986f1738ea0ea9b22df6fa7de9f80c
       "version_major": 2,
       "version_minor": 0
      },
      "text/plain": [
<<<<<<< HEAD
       "interactive(children=(Dropdown(description='img', options=('137435.jpg', '117520.jpg', '686827.jpg', '326821.j…"
=======
       "interactive(children=(Dropdown(description='img', options=('/media/working/minia/images/images_training_rev1/6…"
>>>>>>> 47e93dfc43986f1738ea0ea9b22df6fa7de9f80c
      ]
     },
     "metadata": {},
     "output_type": "display_data"
    }
   ],
   "source": [
    "@interact\n",
    "def show_histograms(img=dir_img, num_bins=(0,40,10)):\n",
    "    image = img_as_float(io.imread(path.abspath(img)))\n",
    "    \n",
    "    hist_img,bins =exposure.histogram(image, 10) #Histograma de toda la imagen\n",
    "    fig=plt.figure(figsize=(12,4.5))\n",
    "    ax1=fig.add_subplot(121)\n",
    "    ax2=fig.add_subplot(122)\n",
    "    \n",
    "    ax1.imshow(image)\n",
    "    ax2.plot(bins, hist_img / hist_img.max())\n",
    "    plt.title('Histograma RGB')\n",
    "    plt.show()  \n",
    "    \n",
    "    for i in [0,1,2]:\n",
    "        ch= image[:,:,i]\n",
    "        hist_img,bins =exposure.histogram(ch, num_bins)\n",
    "        \n",
    "        fig=plt.figure(figsize=(12,4.5))\n",
    "        ax1=fig.add_subplot(121)\n",
    "        ax2=fig.add_subplot(122)\n",
    "        \n",
    "        ax1.imshow(exposure.histogram(ch, num_bins))\n",
    "        ax2.plot(bins, hist_img / hist_img.max())\n",
    "        plt.title('Histograma canal '+str(i))\n",
    "        plt.show()\n",
    "        "
   ]
  },
  {
   "cell_type": "code",
   "execution_count": 4,
   "metadata": {},
   "outputs": [
    {
     "data": {
      "application/vnd.jupyter.widget-view+json": {
       "model_id": "e66ddd3a2f5b41eb9e5aca84b93614f6",
       "version_major": 2,
       "version_minor": 0
      },
      "text/plain": [
       "interactive(children=(Text(value='299912', description='name_img'), IntSlider(value=127, description='num_bins…"
      ]
     },
     "metadata": {},
     "output_type": "display_data"
    }
   ],
   "source": [
    "@interact\n",
    "def show_histograms_per_name(name_img='299912', num_bins=(0,255,1)):\n",
    "    \n",
    "    image = img_as_float(io.imread(path.abspath('/media/working/minia/images/images_training_rev1/'+name_img+'.jpg')))\n",
    "    \n",
    "    hist_img,bins =exposure.histogram(image, 10) #Histograma de toda la imagen\n",
    "    fig=plt.figure(figsize=(12,4.5))\n",
    "    ax1=fig.add_subplot(121)\n",
    "    ax2=fig.add_subplot(122)\n",
    "    \n",
    "    ax1.imshow(image)\n",
    "    ax2.plot(bins, hist_img / hist_img.max())\n",
    "    plt.title('Histograma RGB')\n",
    "    plt.show()  \n",
    "    \n",
    "    for i in [0,1,2]:\n",
    "        ch= image[:,:,i]\n",
    "        hist_img,bins =exposure.histogram(ch, num_bins)\n",
    "        \n",
    "        fig=plt.figure(figsize=(12,4.5))\n",
    "        ax1=fig.add_subplot(121)\n",
    "        ax2=fig.add_subplot(122)\n",
    "        \n",
    "        ax1.imshow(exposure.histogram(ch, num_bins))\n",
    "        ax2.plot(bins, hist_img / hist_img.max())\n",
    "        plt.title('Histograma canal '+str(i))\n",
    "        plt.show()\n"
   ]
  },
  {
   "cell_type": "markdown",
   "metadata": {},
   "source": [
    "# Filtros"
   ]
  },
  {
   "cell_type": "code",
   "execution_count": 17,
   "metadata": {
    "scrolled": false
   },
   "outputs": [
    {
     "data": {
      "application/vnd.jupyter.widget-view+json": {
       "model_id": "e93d8ac42e4d4ee98c014e7f02d0204d",
       "version_major": 2,
       "version_minor": 0
      },
      "text/plain": [
       "interactive(children=(Text(value='299912', description='name_img'), IntSlider(value=15, description='figure_si…"
      ]
     },
     "metadata": {},
     "output_type": "display_data"
    }
   ],
   "source": [
    "@interact_manual\n",
    "def visualize_filter_median(name_img='299912', figure_size=(1,30,2)):\n",
    "    \n",
    "    image = cv.imread(path.abspath('/media/working/minia/images/images_training_rev1/'+name_img+'.jpg'))\n",
    "   \n",
    "    image_median = cv.medianBlur(image, figure_size)\n",
    "    \n",
    "    plt.figure(figsize=(11,6))\n",
    "    plt.subplot(121), plt.imshow(cv.cvtColor(image, cv.COLOR_HSV2RGB)),plt.title('Original')\n",
    "    plt.xticks([]), plt.yticks([])\n",
    "    plt.subplot(122), plt.imshow(cv.cvtColor(image_median, cv.COLOR_HSV2RGB)),plt.title('Median Filter')\n",
    "    plt.axis('off')\n",
    "    plt.show()\n",
    "    \n",
    "    image2 = cv.cvtColor(image, cv.COLOR_HSV2BGR)\n",
    "    image2 = cv.cvtColor(image2, cv.COLOR_BGR2GRAY)\n",
    "    image_median = cv.medianBlur(image2, figure_size)\n",
    "    \n",
    "    plt.figure(figsize=(11,6))\n",
    "    plt.subplot(121), plt.imshow(image2, cmap='gray'),plt.title('Original')\n",
    "    plt.xticks([]), plt.yticks([])\n",
    "    plt.subplot(122), plt.imshow(image_median, cmap='gray'),plt.title('Median Filter')\n",
    "    plt.axis('off')\n",
    "    plt.show()"
   ]
  },
  {
   "cell_type": "code",
<<<<<<< HEAD
   "execution_count": null,
   "metadata": {},
   "outputs": [],
   "source": []
=======
   "execution_count": 6,
   "metadata": {},
   "outputs": [
    {
     "data": {
      "application/vnd.jupyter.widget-view+json": {
       "model_id": "6039f7c08f0d443681c1beb11092ff85",
       "version_major": 2,
       "version_minor": 0
      },
      "text/plain": [
       "interactive(children=(Text(value='299912', description='name_img'), IntSlider(value=127, description='intensit…"
      ]
     },
     "metadata": {},
     "output_type": "display_data"
    }
   ],
   "source": [
    "@interact_manual\n",
    "def visualize_filter_histogram(name_img='299912', intensity_value=(0,255,1), replace_value=(0,255,1)):\n",
    "    \n",
    "    image = cv.imread(path.abspath('/media/working/minia/images/images_training_rev1/'+name_img+'.jpg'))\n",
    "    hist=ndi.histogram(image, min=0, max=255, bins=256)\n",
    "    plt.plot(hist)\n",
    "    plt.title('Histogram'), plt.ylabel('Number of Pixels'), plt.xlabel('Intensity Value')\n",
    "    plt.show()\n",
    "    \n",
    "    cdf=hist.cumsum()/ hist.sum()\n",
    "    plt.plot(cdf)\n",
    "    plt.title('CDF'), plt.ylabel('Proportion of Pixels'), plt.xlabel('Intensity Value')\n",
    "    plt.show()\n",
    "    \n",
    "    \n",
    "    mask =  image <= intensity_value\n",
    "    img_mask=np.where(mask, image, replace_value)\n",
    "    hist=ndi.histogram(img_mask, min=0, max=255, bins=256)\n",
    "    plt.imshow(img_mask)\n",
    "    plt.show()\n",
    "    \n",
    "    plt.plot(hist)\n",
    "    plt.title('Histogram'), plt.ylabel('Number of Pixels'), plt.xlabel('Intensity Value')\n",
    "    plt.show()\n",
    "    "
   ]
>>>>>>> 47e93dfc43986f1738ea0ea9b22df6fa7de9f80c
  }
 ],
 "metadata": {
  "kernelspec": {
   "display_name": "Python 3",
   "language": "python",
   "name": "python3"
  },
  "language_info": {
   "codemirror_mode": {
    "name": "ipython",
    "version": 3
   },
   "file_extension": ".py",
   "mimetype": "text/x-python",
   "name": "python",
   "nbconvert_exporter": "python",
   "pygments_lexer": "ipython3",
   "version": "3.6.9"
  }
 },
 "nbformat": 4,
 "nbformat_minor": 2
}
