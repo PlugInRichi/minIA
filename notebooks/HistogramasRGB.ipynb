{
 "cells": [
  {
   "cell_type": "markdown",
   "metadata": {},
   "source": [
    "# Descripción:\n",
    "\n",
    "Histogramas por canal de color"
   ]
  },
  {
   "cell_type": "code",
   "execution_count": 1,
   "metadata": {},
   "outputs": [],
   "source": [
    "import sys\n",
    "from os import path, listdir, chdir\n",
    "import ipywidgets as widgets\n",
    "from ipywidgets import interact, interact_manual\n",
    "import matplotlib.pyplot as plt\n",
    "from skimage import io, exposure, img_as_float\n",
    "import numpy as np\n",
    "\n",
    "modulos_path = path.abspath('../minIA')\n",
    "if modulos_path not in sys.path:\n",
    "    sys.path.append(modulos_path)\n",
    "    \n",
    "from utiles import lectura_img"
   ]
  },
  {
   "cell_type": "code",
   "execution_count": 2,
   "metadata": {},
   "outputs": [
    {
     "data": {
      "application/vnd.jupyter.widget-view+json": {
       "model_id": "4336a625c87b49e89e982217bb50efbc",
       "version_major": 2,
       "version_minor": 0
      },
      "text/plain": [
       "interactive(children=(Text(value='', description='path_images'), Button(description='Run Interact', style=Butt…"
      ]
     },
     "metadata": {},
     "output_type": "display_data"
    }
   ],
   "source": [
    "@interact_manual\n",
    "def load_images(path_images=''):\n",
    "    list_path_images = lectura_img(path_images)\n",
    "    global dir_img\n",
    "    dir_img=path_images\n",
    "    print('Listo!' )\n",
    "    "
   ]
  },
  {
   "cell_type": "code",
   "execution_count": 4,
   "metadata": {},
   "outputs": [
    {
     "data": {
      "application/vnd.jupyter.widget-view+json": {
       "model_id": "0039d593b8ac46ff8ea9b90e7a90cf59",
       "version_major": 2,
       "version_minor": 0
      },
      "text/plain": [
       "interactive(children=(Dropdown(description='img', options=('137435.jpg', '117520.jpg', '686827.jpg', '326821.j…"
      ]
     },
     "metadata": {},
     "output_type": "display_data"
    }
   ],
   "source": [
    "@interact\n",
    "def show_histograms(img=listdir(dir_img)):\n",
    "    chdir(dir_img)\n",
    "    image = img_as_float(io.imread(path.abspath(img)))\n",
    "    \n",
    "    fig=plt.figure()\n",
    "    plt.imshow(image)\n",
    "    plt.show()\n",
    "    \n",
    "    hist_img_2,bins =exposure.histogram(image, 10) #Histograma de toda la imagen\n",
    "    fig=plt.figure(figsize=(12,4.5))\n",
    "    ax1=fig.add_subplot(121)\n",
    "    ax2=fig.add_subplot(122)\n",
    "    ax1.imshow(exposure.histogram(image, 10))\n",
    "    ax2.plot(bins, hist_img_2 / hist_img_2.max())\n",
    "    plt.title('Histograma RGB')\n",
    "    plt.show()\n",
    "    \n",
    "    ch0= image[2][0:len(image), 0]\n",
    "    hist_img_0,bins =exposure.histogram(ch0, 10)\n",
    "    fig=plt.figure(figsize=(12,4.5))\n",
    "    ax1=fig.add_subplot(121)\n",
    "    ax2=fig.add_subplot(122)\n",
    "    ax1.imshow(exposure.histogram(ch0, 10))\n",
    "    ax2.plot(bins, hist_img_0 / hist_img_0.max())\n",
    "    plt.title('Histograma canal 0')\n",
    "    plt.show()\n",
    "    \n",
    "    ch1= image[2][0:len(image), 1]\n",
    "    hist_img_1,bins =exposure.histogram(ch1, 10)\n",
    "    fig=plt.figure(figsize=(12,4.5))\n",
    "    ax1=fig.add_subplot(121)\n",
    "    ax2=fig.add_subplot(122)\n",
    "    ax1.imshow(exposure.histogram(ch1, 10))\n",
    "    ax2.plot(bins, hist_img_1 / hist_img_1.max())\n",
    "    plt.title('Histograma canal 1')\n",
    "    plt.show()\n",
    "    \n",
    "    ch2= image[2][0:len(image), 1]\n",
    "    hist_img_2,bins =exposure.histogram(ch2, 10)\n",
    "    fig=plt.figure(figsize=(12,4.5))\n",
    "    ax1=fig.add_subplot(121)\n",
    "    ax2=fig.add_subplot(122)\n",
    "    ax1.imshow(exposure.histogram(ch2, 10))\n",
    "    ax2.plot(bins, hist_img_2 / hist_img_2.max())\n",
    "    plt.title('Histograma canal 2')\n",
    "    plt.show()"
   ]
  },
  {
   "cell_type": "code",
   "execution_count": null,
   "metadata": {},
   "outputs": [],
   "source": []
  }
 ],
 "metadata": {
  "kernelspec": {
   "display_name": "Python 3",
   "language": "python",
   "name": "python3"
  },
  "language_info": {
   "codemirror_mode": {
    "name": "ipython",
    "version": 3
   },
   "file_extension": ".py",
   "mimetype": "text/x-python",
   "name": "python",
   "nbconvert_exporter": "python",
   "pygments_lexer": "ipython3",
   "version": "3.6.9"
  }
 },
 "nbformat": 4,
 "nbformat_minor": 2
}
