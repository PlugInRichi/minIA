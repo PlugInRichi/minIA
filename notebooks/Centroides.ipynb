{
 "cells": [
  {
   "cell_type": "code",
   "execution_count": 1,
   "metadata": {},
   "outputs": [],
   "source": [
    "#Librerias\n",
    "import pickle\n",
    "import numpy as np\n",
    "import pandas as pd\n",
    "from sklearn.cluster import KMeans\n",
    "import matplotlib.pyplot as plt"
   ]
  },
  {
   "cell_type": "code",
   "execution_count": 2,
   "metadata": {},
   "outputs": [],
   "source": [
    "pickle_path=('C:\\documents\\pruebaDescriptor1_SIFT.pickle')#ruta del archivo\n",
    "pickle_file = open(pickle_path, 'rb')\n",
    "\n",
    "args = pickle.load(pickle_file) #Lista de las posiciones de los descriptores\n",
    "desc_imgs = pickle.load(pickle_file) #Lista de descriptores"
   ]
  },
  {
   "cell_type": "code",
   "execution_count": 3,
   "metadata": {},
   "outputs": [],
   "source": [
    "#Nos da los descripores con sus n entradas\n",
    "descriptores = [item[1] for item in desc_imgs]\n",
    "desc = np.array(descriptores)\n",
    "J=[]\n",
    "for D in desc:\n",
    "    for i in D:\n",
    "        J.append(i)\n",
    "#print(len(J))"
   ]
  },
  {
   "cell_type": "code",
   "execution_count": 4,
   "metadata": {},
   "outputs": [],
   "source": [
    "#Arreglo de pandas\n",
    "Descrip_Img = pd.DataFrame(J)"
   ]
  },
  {
   "cell_type": "code",
   "execution_count": 6,
   "metadata": {},
   "outputs": [],
   "source": [
    "#Centroides y etiquetas de cada vector descriptor\n",
    "kmeans = KMeans(n_clusters=3, init='k-means++', n_init=10, max_iter=300, tol=0.0001 ).fit(Descrip_Img)# puede variar el # de centroides\n",
    "centroids = kmeans.cluster_centers_\n",
    "etiquetas = kmeans.labels_\n",
    "#print(centroids)\n",
    "#print(etiquetas)\n"
   ]
  },
  {
   "cell_type": "code",
   "execution_count": 7,
   "metadata": {},
   "outputs": [],
   "source": [
    "labels = etiquetas\n",
    "pickle_file = open('labels.pickle', 'wb')\n",
    "pickle.dump(labels, pickle_file)"
   ]
  },
  {
   "cell_type": "code",
   "execution_count": 10,
   "metadata": {},
   "outputs": [],
   "source": [
    "pickle_file = open('labels.pickle','rb')\n",
    "data = pickle.load(pickle_file)\n",
    "#print(data)"
   ]
  },
  {
   "cell_type": "code",
   "execution_count": null,
   "metadata": {},
   "outputs": [],
   "source": []
  }
 ],
 "metadata": {
  "kernelspec": {
   "display_name": "Python 3",
   "language": "python",
   "name": "python3"
  },
  "language_info": {
   "codemirror_mode": {
    "name": "ipython",
    "version": 3
   },
   "file_extension": ".py",
   "mimetype": "text/x-python",
   "name": "python",
   "nbconvert_exporter": "python",
   "pygments_lexer": "ipython3",
   "version": "3.6.8"
  }
 },
 "nbformat": 4,
 "nbformat_minor": 4
}
