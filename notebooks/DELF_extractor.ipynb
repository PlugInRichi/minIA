{
 "cells": [
  {
   "cell_type": "code",
   "execution_count": 1,
   "metadata": {},
   "outputs": [],
   "source": [
    "from __future__ import absolute_import\n",
    "from __future__ import division\n",
    "from __future__ import print_function\n",
    "\n",
    "import argparse\n",
    "import os\n",
    "import sys\n",
    "import time\n",
    "\n",
    "import numpy as np\n",
    "from six.moves import range\n",
    "import tensorflow as tf\n",
    "\n",
    "from google.protobuf import text_format\n",
    "from tensorflow.python.platform import app\n",
    "from delf import delf_config_pb2\n",
    "from delf import feature_io\n",
    "from delf import utils\n",
    "from delf import extractor\n",
    "\n",
    "import delf as df\n",
    "\n",
    "import sys\n",
    "import os.path as path\n",
    "\n",
    "modulos_path = path.abspath('../minIA')\n",
    "if modulos_path not in sys.path:\n",
    "    sys.path.append(modulos_path)\n",
    "\n",
    "from utiles import lectura_img\n",
    "import numpy as np\n",
    "\n",
    "import pickle\n",
    "import cv2 as cv\n",
    "import matplotlib.pyplot as plt\n",
    "\n",
    "import ipywidgets as widgets\n",
    "from ipywidgets import interact, interact_manual"
   ]
  },
  {
   "cell_type": "markdown",
   "metadata": {},
   "source": [
    "https://github.com/tensorflow/models/blob/master/research/delf/delf/python/examples/extract_features.py"
   ]
  },
  {
   "cell_type": "markdown",
   "metadata": {},
   "source": [
    "## Definición de extractor"
   ]
  },
  {
   "cell_type": "code",
   "execution_count": 98,
   "metadata": {},
   "outputs": [],
   "source": [
    "# Pace to report extraction log.\n",
    "_STATUS_CHECK_ITERATIONS = 1000\n",
    "\n",
    "def extractorDELF(image_dir, config_path, output_dir, name_pickle):\n",
    "    \n",
    "  # Read list of images.\n",
    "    print('Reading list of images...')\n",
    "    image_paths = lectura_img(image_dir)\n",
    "    num_images = len(image_paths)\n",
    "    print(f'Done! Found {num_images} images')\n",
    "\n",
    "  # Parse DelfConfig proto.\n",
    "    config = delf_config_pb2.DelfConfig()\n",
    "    with tf.io.gfile.GFile(config_path, 'r') as f:\n",
    "        text_format.Merge(f.read(), config)\n",
    "\n",
    "  # Create output directory if necessary.\n",
    "    if not tf.io.gfile.exists(output_dir):\n",
    "        tf.io.gfile.makedirs(output_dir)\n",
    "    \n",
    "  #Create pickle file\n",
    "    path_pickle = path.abspath(output_dir+'//'+name_pickle)\n",
    "    pickle_file = open(path_pickle, 'wb')\n",
    "\n",
    "  #Create lista de descriptor por imagen\n",
    "    descriptors = list()\n",
    "    \n",
    "  #Crea el extractor\n",
    "    extractor_fn = extractor.MakeExtractor(config)\n",
    "\n",
    "    start = time.time()\n",
    "    for i in range(num_images):\n",
    "    # Report progress once in a while.\n",
    "        if i == 0:\n",
    "            print('Starting to extract DELF features from images...')\n",
    "        elif i % _STATUS_CHECK_ITERATIONS == 0:\n",
    "            elapsed = (time.time() - start)\n",
    "            print(\n",
    "                f'Processing image {i} out of {num_images}, last '\n",
    "                f'{_STATUS_CHECK_ITERATIONS} images took {elapsed} seconds'\n",
    "            )\n",
    "            start = time.time()\n",
    "            \n",
    "      #Carga las imágenes\n",
    "        im = np.array(utils.RgbLoader(image_paths[i]))\n",
    "\n",
    "      # Extract features.\n",
    "        extracted_features = extractor_fn(im)\n",
    "        \n",
    "      # Save features.\n",
    "        nom_img = path.split(image_paths[i])[1]\n",
    "        #extracted_features['local_features']['name_img'] = nom_img #Comentar al hacer la extracción\n",
    "        descp_img = extracted_features['local_features']\n",
    "        descp = descp_img['locations']\n",
    "        kp = np.concatenate((descp_img['locations'],descp_img['scales'].reshape(-1,1)), axis=1)\n",
    "        img = {'keypoints': kp, 'descriptors':descp, 'name_img':nom_img}\n",
    "        #descriptors.append(extracted_features['local_features']) #Comentar al hacer la extracción\n",
    "        descriptors.append(img) #Comentar si se desea visualizar\n",
    "    pickle.dump(\"Ver configuración en: \" + config_path, pickle_file)\n",
    "    pickle.dump(descriptors, pickle_file)\n",
    "    print(\"Terminó\\nArchivo Generado\")\n",
    "    #return descriptors #Descomentar para vizualización"
   ]
  },
  {
   "cell_type": "code",
   "execution_count": 89,
   "metadata": {},
   "outputs": [],
   "source": [
    "# Pace to report extraction log.\n",
    "_STATUS_CHECK_ITERATIONS = 10\n",
    "\n",
    "def VisualizadorDELF(image_dir, config_path, output_dir, name_pickle):\n",
    "    \n",
    "  # Read list of images.\n",
    "    print('Reading list of images...')\n",
    "    image_paths = lectura_img(image_dir)\n",
    "    num_images = len(image_paths)\n",
    "    print(f'Done! Found {num_images} images')\n",
    "\n",
    "  # Parse DelfConfig proto.\n",
    "    config = delf_config_pb2.DelfConfig()\n",
    "    with tf.io.gfile.GFile(config_path, 'r') as f:\n",
    "        text_format.Merge(f.read(), config)\n",
    "\n",
    "  # Create output directory if necessary.\n",
    "    if not tf.io.gfile.exists(output_dir):\n",
    "        tf.io.gfile.makedirs(output_dir)\n",
    "\n",
    "  #Create lista de descriptor por imagen\n",
    "    descriptors = list()\n",
    "    \n",
    "  #Crea el extractor\n",
    "    extractor_fn = extractor.MakeExtractor(config)\n",
    "\n",
    "    start = time.time()\n",
    "    for i in range(num_images):\n",
    "    # Report progress once in a while.\n",
    "        if i == 0:\n",
    "            print('Starting to extract DELF features from images...')\n",
    "        elif i % _STATUS_CHECK_ITERATIONS == 0:\n",
    "            elapsed = (time.time() - start)\n",
    "            print(\n",
    "                f'Processing image {i} out of {num_images}, last '\n",
    "                f'{_STATUS_CHECK_ITERATIONS} images took {elapsed} seconds'\n",
    "            )\n",
    "            start = time.time()\n",
    "            \n",
    "      #Carga las imágenes\n",
    "        im = np.array(utils.RgbLoader(image_paths[i]))\n",
    "\n",
    "      # Extract features.\n",
    "        extracted_features = extractor_fn(im)\n",
    "        \n",
    "      # Save features.\n",
    "        nom_img = path.split(image_paths[i])[1]\n",
    "        extracted_features['local_features']['name_img'] = nom_img #Comentar al hacer la extracción\n",
    "        descriptors.append(extracted_features['local_features']) #Comentar al hacer la extracción\n",
    "    print(\"Terminó\")\n",
    "    return descriptors #Descomentar para vizualización"
   ]
  },
  {
   "cell_type": "code",
   "execution_count": 99,
   "metadata": {
    "scrolled": false
   },
   "outputs": [
    {
     "name": "stdout",
     "output_type": "stream",
     "text": [
      "Reading list of images...\n",
      "Done! Found 61578 images\n",
      "Starting to extract DELF features from images...\n",
      "Processing image 1000 out of 61578, last 1000 images took 100.79374575614929 seconds\n",
      "Processing image 2000 out of 61578, last 1000 images took 98.76800680160522 seconds\n",
      "Processing image 3000 out of 61578, last 1000 images took 98.77857947349548 seconds\n",
      "Processing image 4000 out of 61578, last 1000 images took 99.41029286384583 seconds\n",
      "Processing image 5000 out of 61578, last 1000 images took 99.07668709754944 seconds\n",
      "Processing image 6000 out of 61578, last 1000 images took 98.78534531593323 seconds\n",
      "Processing image 7000 out of 61578, last 1000 images took 99.32468175888062 seconds\n",
      "Processing image 8000 out of 61578, last 1000 images took 99.14921069145203 seconds\n",
      "Processing image 9000 out of 61578, last 1000 images took 98.79901218414307 seconds\n",
      "Processing image 10000 out of 61578, last 1000 images took 98.82456135749817 seconds\n",
      "Processing image 11000 out of 61578, last 1000 images took 99.15821933746338 seconds\n",
      "Processing image 12000 out of 61578, last 1000 images took 98.96822142601013 seconds\n",
      "Processing image 14000 out of 61578, last 1000 images took 98.52613949775696 seconds\n",
      "Processing image 15000 out of 61578, last 1000 images took 99.52763509750366 seconds\n",
      "Processing image 16000 out of 61578, last 1000 images took 99.01909303665161 seconds\n",
      "Processing image 17000 out of 61578, last 1000 images took 99.07034397125244 seconds\n",
      "Processing image 18000 out of 61578, last 1000 images took 99.0985643863678 seconds\n",
      "Processing image 19000 out of 61578, last 1000 images took 98.62974262237549 seconds\n",
      "Processing image 20000 out of 61578, last 1000 images took 99.02563738822937 seconds\n",
      "Processing image 21000 out of 61578, last 1000 images took 99.3028678894043 seconds\n",
      "Processing image 22000 out of 61578, last 1000 images took 98.8766028881073 seconds\n",
      "Processing image 23000 out of 61578, last 1000 images took 99.03967189788818 seconds\n",
      "Processing image 24000 out of 61578, last 1000 images took 98.91571712493896 seconds\n",
      "Processing image 25000 out of 61578, last 1000 images took 99.32778286933899 seconds\n",
      "Processing image 26000 out of 61578, last 1000 images took 98.82480549812317 seconds\n",
      "Processing image 27000 out of 61578, last 1000 images took 99.62989926338196 seconds\n",
      "Processing image 28000 out of 61578, last 1000 images took 99.38704228401184 seconds\n",
      "Processing image 29000 out of 61578, last 1000 images took 99.18575096130371 seconds\n",
      "Processing image 30000 out of 61578, last 1000 images took 99.12569260597229 seconds\n",
      "Processing image 31000 out of 61578, last 1000 images took 98.82851529121399 seconds\n",
      "Processing image 32000 out of 61578, last 1000 images took 99.18353319168091 seconds\n",
      "Processing image 33000 out of 61578, last 1000 images took 99.21515798568726 seconds\n",
      "Processing image 34000 out of 61578, last 1000 images took 99.23860573768616 seconds\n",
      "Processing image 35000 out of 61578, last 1000 images took 99.48309397697449 seconds\n",
      "Processing image 36000 out of 61578, last 1000 images took 99.23506450653076 seconds\n",
      "Processing image 37000 out of 61578, last 1000 images took 99.31141710281372 seconds\n",
      "Processing image 38000 out of 61578, last 1000 images took 99.25942897796631 seconds\n",
      "Processing image 39000 out of 61578, last 1000 images took 99.25027990341187 seconds\n",
      "Processing image 40000 out of 61578, last 1000 images took 99.66698575019836 seconds\n",
      "Processing image 41000 out of 61578, last 1000 images took 99.8725357055664 seconds\n",
      "Processing image 42000 out of 61578, last 1000 images took 99.32823514938354 seconds\n",
      "Processing image 43000 out of 61578, last 1000 images took 99.85321712493896 seconds\n",
      "Processing image 44000 out of 61578, last 1000 images took 99.31159329414368 seconds\n",
      "Processing image 45000 out of 61578, last 1000 images took 99.78474688529968 seconds\n",
      "Processing image 46000 out of 61578, last 1000 images took 99.59219217300415 seconds\n",
      "Processing image 47000 out of 61578, last 1000 images took 99.63275480270386 seconds\n",
      "Processing image 48000 out of 61578, last 1000 images took 99.43046236038208 seconds\n",
      "Processing image 49000 out of 61578, last 1000 images took 99.16963791847229 seconds\n",
      "Processing image 50000 out of 61578, last 1000 images took 99.8789873123169 seconds\n",
      "Processing image 51000 out of 61578, last 1000 images took 99.67216515541077 seconds\n",
      "Processing image 52000 out of 61578, last 1000 images took 100.02414441108704 seconds\n",
      "Processing image 53000 out of 61578, last 1000 images took 99.57165026664734 seconds\n",
      "Processing image 54000 out of 61578, last 1000 images took 99.94200778007507 seconds\n",
      "Processing image 55000 out of 61578, last 1000 images took 99.25986552238464 seconds\n",
      "Processing image 56000 out of 61578, last 1000 images took 99.93434143066406 seconds\n",
      "Processing image 57000 out of 61578, last 1000 images took 99.62757325172424 seconds\n",
      "Processing image 58000 out of 61578, last 1000 images took 99.83280491828918 seconds\n",
      "Processing image 59000 out of 61578, last 1000 images took 99.9789297580719 seconds\n",
      "Processing image 60000 out of 61578, last 1000 images took 99.47168445587158 seconds\n",
      "Processing image 61000 out of 61578, last 1000 images took 99.97436046600342 seconds\n",
      "Terminó\n",
      "Archivo Generado\n"
     ]
    }
   ],
   "source": [
    "#Output incluye el nombre del archivo\n",
    "image_dir = '/media/working/minia/images/images_training_rev1/'\n",
    "config_path_galaxy = '/media/working/minia/DELF/models/research/delf/delf/python/training/delf_config_galaxy_2100.pbtxt'\n",
    "output_dir = '/media/working/minia/DELF/output/'\n",
    "name_pickle = 'DELF_galaxy_full.pickle'\n",
    "#descrip = VisualizadorDELF(image_dir, config_path_galaxy, output_dir, name_pickle)\n",
    "extractorDELF(image_dir, config_path_galaxy, output_dir, name_pickle)"
   ]
  },
  {
   "cell_type": "code",
   "execution_count": 91,
   "metadata": {},
   "outputs": [
    {
     "data": {
      "text/plain": [
       "[<matplotlib.lines.Line2D at 0x7f3408d83d30>]"
      ]
     },
     "execution_count": 91,
     "metadata": {},
     "output_type": "execute_result"
    },
    {
     "data": {
      "image/png": "[encoded data removed]",
      "text/plain": [
       "<Figure size 432x288 with 1 Axes>"
      ]
     },
     "metadata": {
      "needs_background": "light"
     },
     "output_type": "display_data"
    }
   ],
   "source": [
    "descrip_200 = descrip[:]\n",
    "attn = [score for kp in descrip_200[:] for score in kp['attention']]\n",
    "import matplotlib.pyplot as plt\n",
    "plt.plot(attn)"
   ]
  },
  {
   "cell_type": "code",
   "execution_count": 94,
   "metadata": {
    "scrolled": true
   },
   "outputs": [
    {
     "data": {
      "text/plain": [
       "[<matplotlib.lines.Line2D at 0x7f3400c86860>]"
      ]
     },
     "execution_count": 94,
     "metadata": {},
     "output_type": "execute_result"
    },
    {
     "data": {
      "image/png": "[encoded data removed]",
      "text/plain": [
       "<Figure size 432x288 with 1 Axes>"
      ]
     },
     "metadata": {
      "needs_background": "light"
     },
     "output_type": "display_data"
    }
   ],
   "source": [
    "descrip_100= descrip[:]\n",
    "attn = [score for kp in descrip_100[:] for score in kp['attention']]\n",
    "import matplotlib.pyplot as plt\n",
    "plt.plot(attn)"
   ]
  },
  {
   "cell_type": "markdown",
   "metadata": {},
   "source": [
    "### Rutas de búsqueda de imágenes"
   ]
  },
  {
   "cell_type": "code",
   "execution_count": 10,
   "metadata": {},
   "outputs": [
    {
     "name": "stdout",
     "output_type": "stream",
     "text": [
      "Nombre la de imagen: 977000.jpg\n",
      "Número de coordenadas (uno por cada Key Point): 6\n",
      "Número de tamaños (uno por cada Key Point): 6\n",
      "Número de descriptores en la imagen (uno por cada Key Point): 6\n",
      "Número de puntuaciones (uno por cada Key Point): 6\n",
      "\n",
      "\n",
      "Datos para el KP i\n",
      "Coordenadas:  [192. 192.]\n",
      "Tamaño:  1.0\n",
      "Descriptor:  [-0.09071543  0.11191425 -0.09092399 -0.01801112 -0.02836732 -0.0922437\n",
      " -0.2429012   0.01345882  0.03821358  0.02805151  0.05817662  0.10565305\n",
      " -0.05766803  0.02895285 -0.00902522  0.04715138 -0.02595872 -0.08408737\n",
      "  0.01318113  0.13445878 -0.14015599 -0.02717575  0.05140787 -0.046005\n",
      "  0.0763531  -0.11832844 -0.06552954 -0.05509731 -0.04846295  0.00933114\n",
      " -0.09748781  0.03400456 -0.02100862 -0.02302373 -0.08024744 -0.19740486\n",
      "  0.16359432  0.00152265  0.1008741   0.01104816 -0.00057432 -0.03318101\n",
      "  0.18974395 -0.06363465 -0.04468843 -0.01442856 -0.00703476 -0.04011876\n",
      " -0.12324115  0.14153093 -0.05740742 -0.00657834  0.1523353  -0.07762676\n",
      "  0.04615701  0.01747986 -0.08821709 -0.09627059 -0.1733659  -0.03049021\n",
      " -0.03967957  0.11417921 -0.07543056 -0.15681346  0.10034154 -0.13522801\n",
      "  0.04151843  0.05970517  0.08958068 -0.0349135   0.04306661 -0.08622337\n",
      "  0.05513571 -0.01914073 -0.11572435 -0.06302131 -0.09994216 -0.02533767\n",
      "  0.05189982  0.00423055  0.05738169  0.13462931  0.02305567 -0.01997958\n",
      "  0.12804425 -0.04507085  0.10015731 -0.0747814  -0.03214752 -0.00686329\n",
      "  0.12854156  0.04892519  0.04416191  0.04792275  0.06502083  0.04117594\n",
      "  0.23085718 -0.12289841  0.09900313 -0.06488869 -0.0596566   0.0229772\n",
      " -0.01434616 -0.05809616  0.01853319 -0.02585627 -0.0166831   0.338771\n",
      "  0.10605773  0.03113305  0.05633323  0.13502653  0.03971216  0.02085678\n",
      " -0.09939295  0.09177771  0.1247991  -0.09951261  0.04028873 -0.01650375\n",
      " -0.07167422  0.04519859 -0.04832055  0.01100583 -0.0188657  -0.15794945\n",
      "  0.02449207 -0.00674584]\n",
      "Puntuacion:  167.89351\n",
      "Tamaño min:  0.70711356 Tamaño max:  2.8280544\n",
      "<class 'numpy.ndarray'>\n"
     ]
    }
   ],
   "source": [
    "descr_0 = descrip[9]\n",
    "#print(\"Nombre la de imagen:\",descr_0['name_img'])\n",
    "print(\"Número de coordenadas (uno por cada Key Point):\", len(descr_0['locations']))\n",
    "print(\"Número de tamaños (uno por cada Key Point):\",len(descr_0['scales']))\n",
    "print(\"Número de descriptores en la imagen (uno por cada Key Point):\", len(descr_0['descriptors']))\n",
    "print(\"Número de puntuaciones (uno por cada Key Point):\",len(descr_0['attention']))\n",
    "\n",
    "print(\"\\n\\nDatos para el KP i\")\n",
    "i=3\n",
    "print(\"Coordenadas: \", descr_0['locations'][i])\n",
    "print(\"Tamaño: \",descr_0['scales'][i])\n",
    "print(\"Descriptor: \", descr_0['descriptors'][i])\n",
    "print(\"Puntuacion: \", descr_0['attention'][i])\n",
    "\n",
    "print(\"Tamaño min: \",min(descr_0['scales']), \"Tamaño max: \", max(descr_0['scales']))\n",
    "\n",
    "\n",
    "\n",
    "print(type(descr_0['locations'][i]))"
   ]
  },
  {
   "cell_type": "code",
   "execution_count": 74,
   "metadata": {},
   "outputs": [
    {
     "name": "stdout",
     "output_type": "stream",
     "text": [
      "[[192.      192.     ]\n",
      " [180.99548 180.99548]\n",
      " [181.02107 181.02107]\n",
      " [192.      192.     ]\n",
      " [224.      192.     ]\n",
      " [203.64871 203.64871]] (6, 2)\n",
      "[[2.        ]\n",
      " [2.8280544 ]\n",
      " [1.4142271 ]\n",
      " [1.        ]\n",
      " [1.        ]\n",
      " [0.70711356]] (6, 1)\n"
     ]
    },
    {
     "data": {
      "text/plain": [
       "array([[192.        , 192.        ,   2.        ],\n",
       "       [180.99548   , 180.99548   ,   2.8280544 ],\n",
       "       [181.02107   , 181.02107   ,   1.4142271 ],\n",
       "       [192.        , 192.        ,   1.        ],\n",
       "       [224.        , 192.        ,   1.        ],\n",
       "       [203.64871   , 203.64871   ,   0.70711356]], dtype=float32)"
      ]
     },
     "execution_count": 74,
     "metadata": {},
     "output_type": "execute_result"
    }
   ],
   "source": [
    "#kp = list(descr_0['locations'][1])+ float(descr_0['scales'])\n",
    "#np.concatenate((descr_0['locations'][1],np.array(descr_0['scales'][1]).reshape(-1)))\n",
    "l = descr_0['locations']\n",
    "s = descr_0['scales'].reshape(-1,1)\n",
    "print(l, l.shape)\n",
    "print(s, s.shape)\n",
    "kp = np.concatenate((l,s), axis=1)\n",
    "a"
   ]
  },
  {
   "cell_type": "code",
   "execution_count": null,
   "metadata": {},
   "outputs": [],
   "source": [
    "\n",
    "name = descp_img['name_img']\n",
    "descp = descp_img['locations']\n",
    "kp = np.concatenate((descp_img['locations'],descp_img['scales'].reshape(-1,1)), axis=1)\n",
    "img = {'keypoints': kp, 'descriptors':descp, 'name_img':name}"
   ]
  },
  {
   "cell_type": "markdown",
   "metadata": {},
   "source": [
    "### Creación de puntos de interés"
   ]
  },
  {
   "cell_type": "code",
   "execution_count": 4,
   "metadata": {},
   "outputs": [],
   "source": [
    "\n",
    "#Recibe lista de keypoints de una imagen\n",
    "def genKeyPoints( kp_img ):\n",
    "    keypoints = list()\n",
    "    for i in range (len(kp_img['locations'])):\n",
    "        keypoints.append(cv.KeyPoint(kp_img['locations'][i][1], kp_img['locations'][i][0], 5*kp_img['scales'][i]))\n",
    "    return keypoints"
   ]
  },
  {
   "cell_type": "code",
   "execution_count": 95,
   "metadata": {},
   "outputs": [
    {
     "data": {
      "application/vnd.jupyter.widget-view+json": {
       "model_id": "435ea1c0793646cdaac0a66631eaf543",
       "version_major": 2,
       "version_minor": 0
      },
      "text/plain": [
       "interactive(children=(Dropdown(description='image', options=(0, 1, 2, 3, 4, 5, 6, 7, 8, 9, 10, 11, 12, 13, 14,…"
      ]
     },
     "metadata": {},
     "output_type": "display_data"
    }
   ],
   "source": [
    "@interact\n",
    "def show_images_per_descriptors(image = [ i for i in range (len(descrip))]):\n",
    "    descr = descrip[image]\n",
    "    imagen = path.abspath(image_dir+'/'+descr['name_img'])\n",
    "    print(imagen)\n",
    "    img = cv.imread(imagen)\n",
    "    gray= cv.cvtColor(img,cv.COLOR_BGR2GRAY)\n",
    "    keypoints = genKeyPoints(descr) \n",
    "    img=cv.drawKeypoints(img,keypoints,img,flags=cv.DRAW_MATCHES_FLAGS_DRAW_RICH_KEYPOINTS) #Aqui no quitar\n",
    "    cv.imwrite(output_dir+'\\\\'+descr['name_img'],img)\n",
    "\n",
    "    plt.figure(figsize=(20,8))\n",
    "    plt.imshow(img)"
   ]
  },
  {
   "cell_type": "code",
   "execution_count": null,
   "metadata": {},
   "outputs": [],
   "source": [
    "descp_x_image = list()\n",
    "nom_img = path.split(imagen)[1]\n",
    "    descs_img = extractor.calculoDescriptores(img)\n",
    "    descs_img['name_img'] = ['name_img']\n",
    "    descriptores.append(descs_img)\n"
   ]
  }
 ],
 "metadata": {
  "kernelspec": {
   "display_name": "Python 3",
   "language": "python",
   "name": "python3"
  },
  "language_info": {
   "codemirror_mode": {
    "name": "ipython",
    "version": 3
   },
   "file_extension": ".py",
   "mimetype": "text/x-python",
   "name": "python",
   "nbconvert_exporter": "python",
   "pygments_lexer": "ipython3",
   "version": "3.6.9"
  }
 },
 "nbformat": 4,
 "nbformat_minor": 4
}
