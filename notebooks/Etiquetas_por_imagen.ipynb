{
 "cells": [
  {
   "cell_type": "code",
   "execution_count": null,
   "metadata": {},
   "outputs": [],
   "source": [
    "#Librerias\n",
    "import pickle\n",
    "import numpy as np\n",
    "import pandas as pd\n",
    "from sklearn.cluster import KMeans\n",
    "import matplotlib.pyplot as plt"
   ]
  },
  {
   "cell_type": "code",
   "execution_count": null,
   "metadata": {},
   "outputs": [],
   "source": [
    "pickle_path=('')#ruta del archivo\n",
    "pickle_file = open(pickle_path, 'rb')\n",
    "\n",
    "\n",
    "args = pickle.load(pickle_file) #Lista de las posiciones de los descriptores\n",
    "desc_imgs = pickle.load(pickle_file) #Lista de descriptores"
   ]
  },
  {
   "cell_type": "code",
   "execution_count": null,
   "metadata": {},
   "outputs": [],
   "source": [
    "a = [item[0] for item in desc_imgs] #\"Posicion del vector descriptor\"\n",
    "b = [item[1] for item in desc_imgs] #\"Vectores descriptores\"\n",
    "c = [item[2] for item in desc_imgs] #\"Nombre de la imagén \"\n",
    "\n",
    "#Longitud de cada vector descriptor\n",
    "hi=[]\n",
    "for i in range(0,len(b),1):\n",
    "    hi.append(len(b[i]))\n",
    "\n",
    "#Lista de descripores con sus n entradas\n",
    "descriptores = b\n",
    "desc = np.array(descriptores)\n",
    "J=[]\n",
    "for D in desc:\n",
    "    for i in D:\n",
    "        J.append(i)\n",
    "\n",
    "    \n",
    "#Arreglo de pandas\n",
    "Descrip_Img = pd.DataFrame(J)"
   ]
  },
  {
   "cell_type": "code",
   "execution_count": null,
   "metadata": {},
   "outputs": [],
   "source": [
    "#Centroides y etiquetas de cada vector descriptor\n",
    "kmeans = KMeans(n_clusters=2000, init='k-means++', n_init=10, max_iter=300, tol=0.0001 ).fit(J)# puede variar el # de centroides\n",
    "centroids = kmeans.cluster_centers_\n",
    "etiquetas = kmeans.labels_\n",
    "la = kmeans.predict(J)\n",
    "\n",
    "\n",
    "#Suma de las longitudes de los vectores \n",
    "listaNumeros=hi\n",
    "laSuma = 0\n",
    "nu=[]\n",
    "for i in listaNumeros:\n",
    "    laSuma = laSuma + i\n",
    "    nu.append(laSuma)\n",
    "\n",
    "\n",
    "#Se le agrega el 0 a la lista\n",
    "nu.insert(0,0)\n",
    "\n",
    "#Etiquetas agrupadas por por vector descriptor\n",
    "pio=nu\n",
    "lab=[]\n",
    "for i in range(0,len(pio)-1):\n",
    "    lab.append(etiquetas[pio[i]:pio[i+1]])\n",
    "\n",
    "    \n",
    "#Guardo en un arreglo las listas de etiquetas\n",
    "lab2=[]\n",
    "for i in range(0,len(lab)):\n",
    "    gr=lab[i]\n",
    "    lab2.append(gr)\n",
    "\n",
    "# Cambiamos el tamaño del arreglo anterior\n",
    "my_array= np.array(lab2)\n",
    "poo=my_array.reshape((len(lab2),1))\n",
    "\n",
    "# Agregamos los nombres al arreglo \n",
    "cool=np.insert(poo, poo.shape[1], np.array((c)), 1)\n",
    "\n",
    "#Formato en pandas\n",
    "lab3=pd.DataFrame(cool)"
   ]
  },
  {
   "cell_type": "code",
   "execution_count": null,
   "metadata": {},
   "outputs": [],
   "source": [
    "#Se guarda en un archivo pickle\n",
    "labels = lab3\n",
    "pickle_file = open('labels.pickle', 'wb')\n",
    "pickle.dump(labels, pickle_file)"
   ]
  },
  {
   "cell_type": "code",
   "execution_count": null,
   "metadata": {},
   "outputs": [],
   "source": [
    "#Se abre el archivo pickle\n",
    "pickle_file = open('labels.pickle','rb')\n",
    "data = pickle.load(pickle_file)\n",
    "print(data)"
   ]
  },
  {
   "cell_type": "code",
   "execution_count": null,
   "metadata": {},
   "outputs": [],
   "source": []
  }
 ],
 "metadata": {
  "kernelspec": {
   "display_name": "Python 3",
   "language": "python",
   "name": "python3"
  },
  "language_info": {
   "codemirror_mode": {
    "name": "ipython",
    "version": 3
   },
   "file_extension": ".py",
   "mimetype": "text/x-python",
   "name": "python",
   "nbconvert_exporter": "python",
   "pygments_lexer": "ipython3",
   "version": "3.6.8"
  }
 },
 "nbformat": 4,
 "nbformat_minor": 4
}
