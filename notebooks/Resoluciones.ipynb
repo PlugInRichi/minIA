{
 "cells": [
  {
   "cell_type": "markdown",
   "metadata": {},
   "source": [
    "# Descripción:\n",
    "Histograma de resoluciones de imágenes"
   ]
  },
  {
   "cell_type": "markdown",
   "metadata": {},
   "source": [
    "### ¡IMPORTANTE!\n",
    "_Añade la ruta de la carpeta minIA del proyecto_"
   ]
  },
  {
   "cell_type": "code",
   "execution_count": 35,
   "metadata": {},
   "outputs": [],
   "source": [
    "import sys\n",
    "from os import path, scandir\n",
    "\n",
    "path_minIA = path.abspath('..')\n",
    "if path_minIA not in sys.path:\n",
    "    sys.path.append(path_minIA)\n"
   ]
  },
  {
   "cell_type": "code",
   "execution_count": 36,
   "metadata": {},
   "outputs": [],
   "source": [
    "from minIA.utiles import lectura_img\n",
    "list_path_images = lectura_img()"
   ]
  },
  {
   "cell_type": "markdown",
   "metadata": {},
   "source": [
    "_Obtención de rutas para cada imagen_"
   ]
  },
  {
   "cell_type": "markdown",
   "metadata": {},
   "source": [
    "### Conteo de resoluciones"
   ]
  },
  {
   "cell_type": "code",
   "execution_count": 16,
   "metadata": {},
   "outputs": [],
   "source": [
    "from skimage import io\n",
    "\n",
    "#Suponiendo resolución máxima de 5000 x 3000\n",
    "resolucionH = [0] * 5000\n",
    "resolucionV = [0] * 5000\n",
    "for filename in list_path_images:\n",
    "    galaxia = io.imread(filename)\n",
    "    resolucionH[galaxia.shape[0]] += 1\n",
    "    resolucionV[galaxia.shape[1]] += 1\n",
    "    \n",
    "#CHECAR LA OPCIÓN DE COUNT"
   ]
  },
  {
   "cell_type": "code",
   "execution_count": 17,
   "metadata": {},
   "outputs": [],
   "source": [
    "#Opción dos \n",
    "resolucionH2 = list()\n",
    "resolucionV2 = list()\n",
    "for filename in list_path_images:\n",
    "    galaxia = io.imread(filename)\n",
    "    resolucionH2.append(galaxia.shape[0])\n",
    "    resolucionV2.append(galaxia.shape[1])"
   ]
  },
  {
   "cell_type": "markdown",
   "metadata": {},
   "source": [
    "### Graficación de historgrama "
   ]
  },
  {
   "cell_type": "code",
   "execution_count": 18,
   "metadata": {},
   "outputs": [],
   "source": [
    "#Para el tipo 1\n",
    "from pandas import DataFrame\n",
    "\n",
    "y = resolucionV\n",
    "x = [i for i in range(0,5000)]\n",
    "df = DataFrame({'lab':x, 'val':y})\n",
    "#ax = df.plot.bar(x='lab', y='val', rot=0)"
   ]
  },
  {
   "cell_type": "code",
   "execution_count": 19,
   "metadata": {},
   "outputs": [
    {
     "data": {
      "image/png": "[encoded data removed]",
      "text/plain": [
       "<Figure size 432x288 with 1 Axes>"
      ]
     },
     "metadata": {
      "needs_background": "light"
     },
     "output_type": "display_data"
    }
   ],
   "source": [
    "#Para el tipo 2\n",
    "import matplotlib.pyplot as plt\n",
    "\n",
    "plt.title('Historgrama')\n",
    "plt.xlabel('Resolución')\n",
    "plt.ylabel('Num imágenes')\n",
    "plt.hist(resolucionH2, bins = 90)\n",
    "#plt.plot(x)\n",
    "plt.grid(True)\n",
    "plt.show()"
   ]
  },
  {
   "cell_type": "code",
   "execution_count": 20,
   "metadata": {},
   "outputs": [
    {
     "name": "stdout",
     "output_type": "stream",
     "text": [
      "[869, 697, 2106, 664, 1304, 291, 260, 148, 416, 318, 107, 145, 361, 212, 2806, 124, 211, 2806, 2806, 320, 2670, 76, 157, 336, 187]\n",
      "[429, 171, 424, 225, 366, 392, 617, 634, 843, 299, 459, 1051, 1042, 345, 1984, 424, 940, 1984, 1984, 282, 3845, 947, 887, 315, 439]\n"
     ]
    }
   ],
   "source": [
    "print (resolucionH2)\n",
    "print (resolucionV2)"
   ]
  },
  {
   "cell_type": "code",
   "execution_count": null,
   "metadata": {},
   "outputs": [],
   "source": []
  }
 ],
 "metadata": {
  "kernelspec": {
   "display_name": "Python 3",
   "language": "python",
   "name": "python3"
  },
  "language_info": {
   "codemirror_mode": {
    "name": "ipython",
    "version": 3
   },
   "file_extension": ".py",
   "mimetype": "text/x-python",
   "name": "python",
   "nbconvert_exporter": "python",
   "pygments_lexer": "ipython3",
   "version": "3.7.0"
  }
 },
 "nbformat": 4,
 "nbformat_minor": 2
}
