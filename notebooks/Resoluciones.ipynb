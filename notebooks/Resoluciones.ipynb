{
 "cells": [
  {
   "cell_type": "markdown",
   "metadata": {},
   "source": [
    "### Descripción:\n",
    "Histograma de resoluciones de imágenes"
   ]
  },
  {
   "cell_type": "markdown",
   "metadata": {},
   "source": [
    "_Obtención de rutas para cada imagen_"
   ]
  },
  {
   "cell_type": "code",
   "execution_count": 2,
   "metadata": {},
   "outputs": [],
   "source": [
    "from os import path, scandir\n",
    "\n",
    "#Obtiene una lista con la ruta de cada archivo en el directorio dado\n",
    "def lectura_img(path_img): \n",
    "    if path.exists(path_img):\n",
    "        return [archivo.path for archivo in scandir(path_img)]\n",
    "    else:\n",
    "        print(\"La ruta especificada no existe\")\n",
    "        return list()"
   ]
  },
  {
   "cell_type": "code",
   "execution_count": 3,
   "metadata": {},
   "outputs": [],
   "source": [
    "path_images = r\"C:\\Users\\muser\\Documents\\Servicio\\minIA\\images\"\n",
    "list_path_images = lectura_img(path_images)"
   ]
  },
  {
   "cell_type": "markdown",
   "metadata": {},
   "source": [
    "### Conteo de resoluciones"
   ]
  },
  {
   "cell_type": "code",
   "execution_count": 4,
   "metadata": {},
   "outputs": [],
   "source": [
    "from skimage import io\n",
    "\n",
    "#Suponiendo resolución máxima de 5000 x 3000\n",
    "resolucionH = [0] * 5000\n",
    "resolucionV = [0] * 5000\n",
    "for filename in list_path_images:\n",
    "    galaxia = io.imread(filename)\n",
    "    resolucionH[galaxia.shape[0]] += 1\n",
    "    resolucionV[galaxia.shape[1]] += 1\n",
    "    \n",
    "#CHECAR LA OPCIÓN DE COUNT"
   ]
  },
  {
   "cell_type": "code",
   "execution_count": 5,
   "metadata": {},
   "outputs": [],
   "source": [
    "#Opción dos \n",
    "resolucionH2 = list()\n",
    "resolucionV2 = list()\n",
    "for filename in list_path_images:\n",
    "    galaxia = io.imread(filename)\n",
    "    resolucionH2.append(galaxia.shape[0])\n",
    "    resolucionV2.append(galaxia.shape[1])"
   ]
  },
  {
   "cell_type": "markdown",
   "metadata": {},
   "source": [
    "### Graficación de historgrama "
   ]
  },
  {
   "cell_type": "code",
   "execution_count": 6,
   "metadata": {},
   "outputs": [],
   "source": [
    "#Para el tipo 1\n",
    "from pandas import DataFrame\n",
    "\n",
    "y = resolucionV\n",
    "x = [i for i in range(0,5000)]\n",
    "df = DataFrame({'lab':x, 'val':y})\n",
    "#ax = df.plot.bar(x='lab', y='val', rot=0)"
   ]
  },
  {
   "cell_type": "code",
   "execution_count": null,
   "metadata": {},
   "outputs": [],
   "source": [
    "#Para el tipo 2\n",
    "import matplotlib.pyplot as plt\n",
    "\n",
    "plt.title('Historgrama')\n",
    "plt.xlabel('Resolución')\n",
    "plt.ylabel('Num imágenes')\n",
    "plt.hist(resolucionH2, bins = 90)\n",
    "#plt.plot(x)\n",
    "plt.grid(True)\n",
    "plt.show()"
   ]
  },
  {
   "cell_type": "code",
   "execution_count": null,
   "metadata": {},
   "outputs": [],
   "source": [
    "print (resolucionH2)\n",
    "print (resolucionV2)"
   ]
  },
  {
   "cell_type": "code",
   "execution_count": null,
   "metadata": {},
   "outputs": [],
   "source": []
  }
 ],
 "metadata": {
  "kernelspec": {
   "display_name": "Python 3",
   "language": "python",
   "name": "python3"
  },
  "language_info": {
   "codemirror_mode": {
    "name": "ipython",
    "version": 3
   },
   "file_extension": ".py",
   "mimetype": "text/x-python",
   "name": "python",
   "nbconvert_exporter": "python",
   "pygments_lexer": "ipython3",
   "version": "3.7.0"
  }
 },
 "nbformat": 4,
 "nbformat_minor": 2
}
