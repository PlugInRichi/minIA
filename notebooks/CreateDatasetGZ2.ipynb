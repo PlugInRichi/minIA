{
 "cells": [
  {
   "cell_type": "code",
   "execution_count": 1,
   "metadata": {},
   "outputs": [],
   "source": [
    "import pandas as pd\n",
    "import numpy as np"
   ]
  },
  {
   "cell_type": "markdown",
   "metadata": {},
   "source": [
    "## Get Data"
   ]
  },
  {
   "cell_type": "code",
   "execution_count": 2,
   "metadata": {},
   "outputs": [],
   "source": [
    "galaxyZoo2 = r'/home/rick/Proyectos/minIA.old/notebooks/DataCharacterization/zoo2MainSpecz.csv'\n",
    "df_g = pd.read_csv(galaxyZoo2)\n",
    "df = df_g.sample(n=5000, random_state=1)"
   ]
  },
  {
   "cell_type": "code",
   "execution_count": 3,
   "metadata": {},
   "outputs": [],
   "source": [
    "classes = [\n",
    "    'dr7objid',\n",
    "    't08_odd_feature_a19_ring_weighted_fraction', \n",
    "    't08_odd_feature_a20_lens_or_arc_weighted_fraction', \n",
    "    't08_odd_feature_a21_disturbed_weighted_fraction', \n",
    "    't08_odd_feature_a22_irregular_weighted_fraction', \n",
    "    't08_odd_feature_a24_merger_weighted_fraction', \n",
    "    't08_odd_feature_a38_dust_lane_weighted_fraction',\n",
    "    \n",
    "    't11_arms_number_a31_1_weighted_fraction', \n",
    "    't11_arms_number_a32_2_weighted_fraction', \n",
    "    't11_arms_number_a33_3_weighted_fraction', \n",
    "    't11_arms_number_a34_4_weighted_fraction',\n",
    "    \n",
    "    't05_bulge_prominence_a10_no_bulge_weighted_fraction', \n",
    "    't05_bulge_prominence_a11_just_noticeable_weighted_fraction', \n",
    "    't05_bulge_prominence_a12_obvious_weighted_fraction', \n",
    "    't05_bulge_prominence_a13_dominant_weighted_fraction', \n",
    "    \n",
    "    't07_rounded_a16_completely_round_weighted_fraction', \n",
    "    't07_rounded_a17_in_between_weighted_fraction', \n",
    "    't07_rounded_a18_cigar_shaped_weighted_fraction',\n",
    "    \n",
    "    't09_bulge_shape_a25_rounded_weighted_fraction', \n",
    "    't09_bulge_shape_a26_boxy_weighted_fraction', \n",
    "    't09_bulge_shape_a27_no_bulge_weighted_fraction',\n",
    "    \n",
    "    't10_arms_winding_a28_tight_weighted_fraction', \n",
    "    't10_arms_winding_a29_medium_weighted_fraction', \n",
    "    't10_arms_winding_a30_loose_weighted_fraction']\n",
    "\n",
    "debiased = [\n",
    "    'dr7objid',\n",
    "    't08_odd_feature_a19_ring_debiased',\n",
    "    't08_odd_feature_a20_lens_or_arc_debiased',\n",
    "    't08_odd_feature_a21_disturbed_debiased',\n",
    "    't08_odd_feature_a22_irregular_debiased',\n",
    "    't08_odd_feature_a24_merger_debiased',\n",
    "    't08_odd_feature_a38_dust_lane_debiased', \n",
    "    \n",
    "    't11_arms_number_a31_1_debiased', \n",
    "    't11_arms_number_a32_2_debiased', \n",
    "    't11_arms_number_a33_3_debiased', \n",
    "    't11_arms_number_a34_4_debiased',\n",
    "    't05_bulge_prominence_a10_no_bulge_debiased', \n",
    "    't05_bulge_prominence_a11_just_noticeable_debiased', \n",
    "    't05_bulge_prominence_a12_obvious_debiased', \n",
    "    't05_bulge_prominence_a13_dominant_debiased', \n",
    "    \n",
    "    't07_rounded_a16_completely_round_debiased', \n",
    "    't07_rounded_a17_in_between_debiased',\n",
    "    't07_rounded_a18_cigar_shaped_debiased',\n",
    "    \n",
    "    't09_bulge_shape_a25_rounded_debiased', \n",
    "    't09_bulge_shape_a26_boxy_debiased', \n",
    "    't09_bulge_shape_a27_no_bulge_debiased',\n",
    "    \n",
    "    't10_arms_winding_a28_tight_debiased', \n",
    "    't10_arms_winding_a29_medium_debiased', \n",
    "    't10_arms_winding_a30_loose_debiased']\n"
   ]
  },
  {
   "cell_type": "code",
   "execution_count": 4,
   "metadata": {},
   "outputs": [],
   "source": [
    "def classPerImage(df,criteria, threshold):\n",
    "    df2 = df[criteria].copy()\n",
    "    df2 = df2[df2 > threshold]\n",
    "    df2.columns = range(len(df2.columns))\n",
    "    names = df2[0]\n",
    "    img_class = (df2.iloc[:, 1:]\n",
    "                 .stack()\n",
    "                 .reset_index()\n",
    "                 .groupby(['level_0'], sort=False)['level_1']\n",
    "                 .apply(list))\n",
    "    img = pd.concat([names, img_class], axis=1)\n",
    "    img.columns = ['id','classes']\n",
    "    return img"
   ]
  },
  {
   "cell_type": "code",
   "execution_count": 5,
   "metadata": {},
   "outputs": [],
   "source": [
    "def filterDS(df, criteria, threshold):\n",
    "    df2 = df[criteria].copy()\n",
    "    df2 = df2[df2 > threshold]\n",
    "    df2.columns = range(len(df2.columns))\n",
    "    return df2"
   ]
  },
  {
   "cell_type": "code",
   "execution_count": 7,
   "metadata": {},
   "outputs": [],
   "source": [
    "def createDSfile(ruta, df):\n",
    "    with open(ruta,'w') as dataset:\n",
    "        dataset.write('type_galaxy_id,images\\n')\n",
    "        classes = list()\n",
    "        for class_ in range(1, len(df.columns) - 1):\n",
    "            images_class = df[[0,class_]].dropna()[0].astype(str).tolist()\n",
    "            images = ' '.join(images_class)\n",
    "            dataset.write(str(class_)+','+images+'\\n')\n",
    "            classes.append(len(images_class))\n",
    "    print(classes, sum(classes))"
   ]
  },
  {
   "cell_type": "markdown",
   "metadata": {},
   "source": [
    "### Clases asignadas utilizando weighted_fraction"
   ]
  },
  {
   "cell_type": "code",
   "execution_count": 16,
   "metadata": {},
   "outputs": [
    {
     "name": "stdout",
     "output_type": "stream",
     "text": [
      "Imágenes con almenos una clase asignada:  240589\n"
     ]
    },
    {
     "data": {
      "text/html": [
       "<div>\n",
       "<style scoped>\n",
       "    .dataframe tbody tr th:only-of-type {\n",
       "        vertical-align: middle;\n",
       "    }\n",
       "\n",
       "    .dataframe tbody tr th {\n",
       "        vertical-align: top;\n",
       "    }\n",
       "\n",
       "    .dataframe thead th {\n",
       "        text-align: right;\n",
       "    }\n",
       "</style>\n",
       "<table border=\"1\" class=\"dataframe\">\n",
       "  <thead>\n",
       "    <tr style=\"text-align: right;\">\n",
       "      <th></th>\n",
       "      <th>id</th>\n",
       "      <th>classes</th>\n",
       "    </tr>\n",
       "  </thead>\n",
       "  <tbody>\n",
       "    <tr>\n",
       "      <th>0</th>\n",
       "      <td>588017703996096547</td>\n",
       "      <td>NaN</td>\n",
       "    </tr>\n",
       "    <tr>\n",
       "      <th>1</th>\n",
       "      <td>587738569780428805</td>\n",
       "      <td>[8, 17, 21]</td>\n",
       "    </tr>\n",
       "    <tr>\n",
       "      <th>2</th>\n",
       "      <td>587735695913320507</td>\n",
       "      <td>[20]</td>\n",
       "    </tr>\n",
       "    <tr>\n",
       "      <th>3</th>\n",
       "      <td>587742775634624545</td>\n",
       "      <td>NaN</td>\n",
       "    </tr>\n",
       "    <tr>\n",
       "      <th>4</th>\n",
       "      <td>587732769983889439</td>\n",
       "      <td>[17, 21]</td>\n",
       "    </tr>\n",
       "  </tbody>\n",
       "</table>\n",
       "</div>"
      ],
      "text/plain": [
       "                   id      classes\n",
       "0  588017703996096547          NaN\n",
       "1  587738569780428805  [8, 17, 21]\n",
       "2  587735695913320507         [20]\n",
       "3  587742775634624545          NaN\n",
       "4  587732769983889439     [17, 21]"
      ]
     },
     "execution_count": 16,
     "metadata": {},
     "output_type": "execute_result"
    }
   ],
   "source": [
    "img = classPerImage(df_g,classes,0.9)\n",
    "print('Imágenes con almenos una clase asignada: ', 304122  - img['classes'].isna().sum())\n",
    "img.head()"
   ]
  },
  {
   "cell_type": "markdown",
   "metadata": {},
   "source": [
    "### Clases asignadas utilizando debiased"
   ]
  },
  {
   "cell_type": "code",
   "execution_count": 17,
   "metadata": {},
   "outputs": [
    {
     "name": "stdout",
     "output_type": "stream",
     "text": [
      "Imágenes con almenos una clase asignada:  240995\n"
     ]
    },
    {
     "data": {
      "text/html": [
       "<div>\n",
       "<style scoped>\n",
       "    .dataframe tbody tr th:only-of-type {\n",
       "        vertical-align: middle;\n",
       "    }\n",
       "\n",
       "    .dataframe tbody tr th {\n",
       "        vertical-align: top;\n",
       "    }\n",
       "\n",
       "    .dataframe thead th {\n",
       "        text-align: right;\n",
       "    }\n",
       "</style>\n",
       "<table border=\"1\" class=\"dataframe\">\n",
       "  <thead>\n",
       "    <tr style=\"text-align: right;\">\n",
       "      <th></th>\n",
       "      <th>id</th>\n",
       "      <th>classes</th>\n",
       "    </tr>\n",
       "  </thead>\n",
       "  <tbody>\n",
       "    <tr>\n",
       "      <th>0</th>\n",
       "      <td>588017703996096547</td>\n",
       "      <td>NaN</td>\n",
       "    </tr>\n",
       "    <tr>\n",
       "      <th>1</th>\n",
       "      <td>587738569780428805</td>\n",
       "      <td>[8, 17, 21]</td>\n",
       "    </tr>\n",
       "    <tr>\n",
       "      <th>2</th>\n",
       "      <td>587735695913320507</td>\n",
       "      <td>[20]</td>\n",
       "    </tr>\n",
       "    <tr>\n",
       "      <th>3</th>\n",
       "      <td>587742775634624545</td>\n",
       "      <td>NaN</td>\n",
       "    </tr>\n",
       "    <tr>\n",
       "      <th>4</th>\n",
       "      <td>587732769983889439</td>\n",
       "      <td>[17, 21]</td>\n",
       "    </tr>\n",
       "  </tbody>\n",
       "</table>\n",
       "</div>"
      ],
      "text/plain": [
       "                   id      classes\n",
       "0  588017703996096547          NaN\n",
       "1  587738569780428805  [8, 17, 21]\n",
       "2  587735695913320507         [20]\n",
       "3  587742775634624545          NaN\n",
       "4  587732769983889439     [17, 21]"
      ]
     },
     "execution_count": 17,
     "metadata": {},
     "output_type": "execute_result"
    }
   ],
   "source": [
    "img = classPerImage(df_g,debiased,0.9)\n",
    "print('Imágenes con almenos una clase asignada: ', 304122  - img['classes'].isna().sum())\n",
    "img.head()"
   ]
  },
  {
   "cell_type": "markdown",
   "metadata": {},
   "source": [
    "### Creación de archivo con elementos por clase"
   ]
  },
  {
   "cell_type": "code",
   "execution_count": 18,
   "metadata": {},
   "outputs": [
    {
     "name": "stdout",
     "output_type": "stream",
     "text": [
      "[12411, 4327, 10165, 7485, 2397, 1385, 3667, 26620, 982, 493, 7064, 18887, 24618, 3662, 38889, 68232, 26260, 55128, 3616, 12923, 28497, 15806] 373514\n"
     ]
    }
   ],
   "source": [
    "ruta = r'/home/rick/Proyectos/minIA/datasetGZ2.csv'\n",
    "df_img = filterDS(df_g, classes,0.8) # use df for testing\n",
    "createDSfile(ruta, df_img)"
   ]
  },
  {
   "cell_type": "code",
   "execution_count": 19,
   "metadata": {},
   "outputs": [
    {
     "name": "stdout",
     "output_type": "stream",
     "text": [
      "12411 t08_odd_feature_a19_ring_debiased\n",
      "4327 t08_odd_feature_a20_lens_or_arc_debiased\n",
      "10165 t08_odd_feature_a21_disturbed_debiased\n",
      "7485 t08_odd_feature_a22_irregular_debiased\n",
      "2397 t08_odd_feature_a24_merger_debiased\n",
      "1385 t08_odd_feature_a38_dust_lane_debiased\n",
      "3667 t11_arms_number_a31_1_debiased\n",
      "26620 t11_arms_number_a32_2_debiased\n",
      "982 t11_arms_number_a33_3_debiased\n",
      "493 t11_arms_number_a34_4_debiased\n",
      "7064 t05_bulge_prominence_a10_no_bulge_debiased\n",
      "18887 t05_bulge_prominence_a11_just_noticeable_debiased\n",
      "24618 t05_bulge_prominence_a12_obvious_debiased\n",
      "3662 t05_bulge_prominence_a13_dominant_debiased\n",
      "38889 t07_rounded_a16_completely_round_debiased\n",
      "68232 t07_rounded_a17_in_between_debiased\n",
      "26260 t07_rounded_a18_cigar_shaped_debiased\n",
      "55128 t09_bulge_shape_a25_rounded_debiased\n",
      "3616 t09_bulge_shape_a26_boxy_debiased\n",
      "12923 t09_bulge_shape_a27_no_bulge_debiased\n",
      "28497 t10_arms_winding_a28_tight_debiased\n",
      "15806 t10_arms_winding_a29_medium_debiased\n"
     ]
    },
    {
     "data": {
      "text/plain": [
       "373514"
      ]
     },
     "execution_count": 19,
     "metadata": {},
     "output_type": "execute_result"
    }
   ],
   "source": [
    "elemxClass = [12411, 4327, 10165, 7485, 2397, 1385, 3667, 26620, 982, 493, 7064, 18887, 24618, 3662, 38889, 68232, 26260, 55128, 3616, 12923, 28497, 15806] \n",
    "for i,j in zip(debiased[1:-1], elemxClass):\n",
    "    print (j, i)\n",
    "sum(elemxClass)"
   ]
  },
  {
   "cell_type": "code",
   "execution_count": 8,
   "metadata": {},
   "outputs": [
    {
     "data": {
      "text/plain": [
       "56735500"
      ]
     },
     "execution_count": 8,
     "metadata": {},
     "output_type": "execute_result"
    }
   ],
   "source": []
  }
 ],
 "metadata": {
  "kernelspec": {
   "display_name": "Python 3",
   "language": "python",
   "name": "python3"
  },
  "language_info": {
   "codemirror_mode": {
    "name": "ipython",
    "version": 3
   },
   "file_extension": ".py",
   "mimetype": "text/x-python",
   "name": "python",
   "nbconvert_exporter": "python",
   "pygments_lexer": "ipython3",
   "version": "3.6.9"
  }
 },
 "nbformat": 4,
 "nbformat_minor": 4
}
