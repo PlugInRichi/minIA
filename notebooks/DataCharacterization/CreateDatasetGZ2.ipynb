{
 "cells": [
  {
   "cell_type": "code",
   "execution_count": 1,
   "metadata": {},
   "outputs": [],
   "source": [
    "import pandas as pd\n",
    "import numpy as np"
   ]
  },
  {
   "cell_type": "markdown",
   "metadata": {},
   "source": [
    "## Get Data"
   ]
  },
  {
   "cell_type": "code",
   "execution_count": 2,
   "metadata": {},
   "outputs": [],
   "source": [
    "galaxyZoo2 = r'/home/rick/Proyectos/minIA.old/notebooks/DataCharacterization/zoo2MainSpecz.csv'\n",
    "df_g = pd.read_csv(galaxyZoo2)\n",
    "df = df_g.sample(n=5000, random_state=1)"
   ]
  },
  {
   "cell_type": "code",
   "execution_count": 10,
   "metadata": {},
   "outputs": [],
   "source": [
    "classes = [\n",
    "    'dr7objid',\n",
    "    't08_odd_feature_a19_ring_weighted_fraction', \n",
    "    't08_odd_feature_a20_lens_or_arc_weighted_fraction', \n",
    "    't08_odd_feature_a21_disturbed_weighted_fraction', \n",
    "    't08_odd_feature_a22_irregular_weighted_fraction', \n",
    "    't08_odd_feature_a23_other_weighted_fraction', \n",
    "    't08_odd_feature_a24_merger_weighted_fraction', \n",
    "    't08_odd_feature_a38_dust_lane_weighted_fraction',\n",
    "    \n",
    "    't11_arms_number_a31_1_weighted_fraction', \n",
    "    't11_arms_number_a32_2_weighted_fraction', \n",
    "    't11_arms_number_a33_3_weighted_fraction', \n",
    "    't11_arms_number_a34_4_weighted_fraction',\n",
    "    \n",
    "    't05_bulge_prominence_a10_no_bulge_weighted_fraction', \n",
    "    't05_bulge_prominence_a11_just_noticeable_weighted_fraction', \n",
    "    't05_bulge_prominence_a12_obvious_weighted_fraction', \n",
    "    't05_bulge_prominence_a13_dominant_weighted_fraction', \n",
    "    \n",
    "    't07_rounded_a16_completely_round_weighted_fraction', \n",
    "    't07_rounded_a17_in_between_weighted_fraction', \n",
    "    't07_rounded_a18_cigar_shaped_weighted_fraction',\n",
    "    \n",
    "    't09_bulge_shape_a25_rounded_weighted_fraction', \n",
    "    't09_bulge_shape_a26_boxy_weighted_fraction', \n",
    "    't09_bulge_shape_a27_no_bulge_weighted_fraction',\n",
    "    \n",
    "    't10_arms_winding_a28_tight_weighted_fraction', \n",
    "    't10_arms_winding_a29_medium_weighted_fraction', \n",
    "    't10_arms_winding_a30_loose_weighted_fraction']\n"
   ]
  },
  {
   "cell_type": "code",
   "execution_count": 69,
   "metadata": {},
   "outputs": [
    {
     "data": {
      "text/plain": [
       "3783"
      ]
     },
     "execution_count": 69,
     "metadata": {},
     "output_type": "execute_result"
    }
   ],
   "source": [
    "df2 = df[classes].copy()\n",
    "df2 = df2[df2 > 0.9]\n",
    "df2.columns = range( len(df2.columns))\n",
    "names = df2[0]\n",
    "img_class = (df2.iloc[:, 1:]\n",
    "             .stack()\n",
    "             .reset_index()\n",
    "             .groupby(['level_0'], sort=False)['level_1']\n",
    "             .apply(list))\n",
    "img = pd.concat([names, img_class], axis=1)\n",
    "img.columns = ['id','classes']\n",
    "5000 - img['classes'].isna().sum()"
   ]
  },
  {
   "cell_type": "code",
   "execution_count": 50,
   "metadata": {},
   "outputs": [
    {
     "data": {
      "text/html": [
       "<div>\n",
       "<style scoped>\n",
       "    .dataframe tbody tr th:only-of-type {\n",
       "        vertical-align: middle;\n",
       "    }\n",
       "\n",
       "    .dataframe tbody tr th {\n",
       "        vertical-align: top;\n",
       "    }\n",
       "\n",
       "    .dataframe thead th {\n",
       "        text-align: right;\n",
       "    }\n",
       "</style>\n",
       "<table border=\"1\" class=\"dataframe\">\n",
       "  <thead>\n",
       "    <tr style=\"text-align: right;\">\n",
       "      <th></th>\n",
       "      <th>0</th>\n",
       "      <th>level_1</th>\n",
       "    </tr>\n",
       "  </thead>\n",
       "  <tbody>\n",
       "    <tr>\n",
       "      <th>243384</th>\n",
       "      <td>588848899388539158</td>\n",
       "      <td>[13]</td>\n",
       "    </tr>\n",
       "    <tr>\n",
       "      <th>243404</th>\n",
       "      <td>587728906638721387</td>\n",
       "      <td>[3, 21]</td>\n",
       "    </tr>\n",
       "    <tr>\n",
       "      <th>243415</th>\n",
       "      <td>587726031701475464</td>\n",
       "      <td>[16]</td>\n",
       "    </tr>\n",
       "    <tr>\n",
       "      <th>243419</th>\n",
       "      <td>588015510362849499</td>\n",
       "      <td>[4, 18, 19]</td>\n",
       "    </tr>\n",
       "    <tr>\n",
       "      <th>243448</th>\n",
       "      <td>587731870705909895</td>\n",
       "      <td>[22]</td>\n",
       "    </tr>\n",
       "  </tbody>\n",
       "</table>\n",
       "</div>"
      ],
      "text/plain": [
       "                         0      level_1\n",
       "243384  588848899388539158         [13]\n",
       "243404  587728906638721387      [3, 21]\n",
       "243415  587726031701475464         [16]\n",
       "243419  588015510362849499  [4, 18, 19]\n",
       "243448  587731870705909895         [22]"
      ]
     },
     "execution_count": 50,
     "metadata": {},
     "output_type": "execute_result"
    }
   ],
   "source": [
    "img.tail()"
   ]
  },
  {
   "cell_type": "code",
   "execution_count": 43,
   "metadata": {},
   "outputs": [],
   "source": [
    "debiased = [\n",
    "    'dr7objid',\n",
    "    't08_odd_feature_a19_ring_debiased',\n",
    "    't08_odd_feature_a20_lens_or_arc_debiased',\n",
    "    't08_odd_feature_a21_disturbed_debiased',\n",
    "    't08_odd_feature_a22_irregular_debiased',\n",
    "    't08_odd_feature_a23_other_debiased',\n",
    "    't08_odd_feature_a24_merger_debiased',\n",
    "    't08_odd_feature_a38_dust_lane_debiased', \n",
    "    \n",
    "    't11_arms_number_a31_1_debiased', \n",
    "    't11_arms_number_a32_2_debiased', \n",
    "    't11_arms_number_a33_3_debiased', \n",
    "    't11_arms_number_a34_4_debiased',\n",
    "    't05_bulge_prominence_a10_no_bulge_debiased', \n",
    "    't05_bulge_prominence_a11_just_noticeable_debiased', \n",
    "    't05_bulge_prominence_a12_obvious_debiased', \n",
    "    't05_bulge_prominence_a13_dominant_debiased', \n",
    "    \n",
    "    't07_rounded_a16_completely_round_debiased', \n",
    "    't07_rounded_a17_in_between_debiased',\n",
    "    't07_rounded_a18_cigar_shaped_debiased',\n",
    "    \n",
    "    't09_bulge_shape_a25_rounded_debiased', \n",
    "    't09_bulge_shape_a26_boxy_debiased', \n",
    "    't09_bulge_shape_a27_no_bulge_debiased',\n",
    "    \n",
    "    't10_arms_winding_a28_tight_debiased', \n",
    "    't10_arms_winding_a29_medium_debiased', \n",
    "    't10_arms_winding_a30_loose_debiased']"
   ]
  },
  {
   "cell_type": "code",
   "execution_count": 68,
   "metadata": {},
   "outputs": [
    {
     "data": {
      "text/plain": [
       "3799"
      ]
     },
     "execution_count": 68,
     "metadata": {},
     "output_type": "execute_result"
    }
   ],
   "source": [
    "df2 = df[debiased].copy()\n",
    "df2 = df2[df2 > 0.9]\n",
    "df2.columns = range( len(df2.columns))\n",
    "names = df2[0]\n",
    "img_class = (df2.iloc[:, 1:]\n",
    "             .stack()\n",
    "             .reset_index()\n",
    "             .groupby(['level_0'], sort=False)['level_1']\n",
    "             .apply(list))\n",
    "img_db = pd.concat([names, img_class], axis=1)\n",
    "img_db.columns = ['id','classes']\n",
    "5000 - img_db['classes'].isna().sum()"
   ]
  },
  {
   "cell_type": "code",
   "execution_count": 71,
   "metadata": {},
   "outputs": [
    {
     "data": {
      "text/html": [
       "<div>\n",
       "<style scoped>\n",
       "    .dataframe tbody tr th:only-of-type {\n",
       "        vertical-align: middle;\n",
       "    }\n",
       "\n",
       "    .dataframe tbody tr th {\n",
       "        vertical-align: top;\n",
       "    }\n",
       "\n",
       "    .dataframe thead th {\n",
       "        text-align: right;\n",
       "    }\n",
       "</style>\n",
       "<table border=\"1\" class=\"dataframe\">\n",
       "  <thead>\n",
       "    <tr style=\"text-align: right;\">\n",
       "      <th></th>\n",
       "      <th>id</th>\n",
       "      <th>classes</th>\n",
       "    </tr>\n",
       "  </thead>\n",
       "  <tbody>\n",
       "    <tr>\n",
       "      <th>243384</th>\n",
       "      <td>588848899388539158</td>\n",
       "      <td>NaN</td>\n",
       "    </tr>\n",
       "    <tr>\n",
       "      <th>243404</th>\n",
       "      <td>587728906638721387</td>\n",
       "      <td>[3, 21]</td>\n",
       "    </tr>\n",
       "    <tr>\n",
       "      <th>243415</th>\n",
       "      <td>587726031701475464</td>\n",
       "      <td>NaN</td>\n",
       "    </tr>\n",
       "    <tr>\n",
       "      <th>243419</th>\n",
       "      <td>588015510362849499</td>\n",
       "      <td>[4]</td>\n",
       "    </tr>\n",
       "    <tr>\n",
       "      <th>243448</th>\n",
       "      <td>587731870705909895</td>\n",
       "      <td>[22]</td>\n",
       "    </tr>\n",
       "  </tbody>\n",
       "</table>\n",
       "</div>"
      ],
      "text/plain": [
       "                        id  classes\n",
       "243384  588848899388539158      NaN\n",
       "243404  587728906638721387  [3, 21]\n",
       "243415  587726031701475464      NaN\n",
       "243419  588015510362849499      [4]\n",
       "243448  587731870705909895     [22]"
      ]
     },
     "execution_count": 71,
     "metadata": {},
     "output_type": "execute_result"
    }
   ],
   "source": [
    "img_db.tail()"
   ]
  }
 ],
 "metadata": {
  "kernelspec": {
   "display_name": "Python 3",
   "language": "python",
   "name": "python3"
  },
  "language_info": {
   "codemirror_mode": {
    "name": "ipython",
    "version": 3
   },
   "file_extension": ".py",
   "mimetype": "text/x-python",
   "name": "python",
   "nbconvert_exporter": "python",
   "pygments_lexer": "ipython3",
   "version": "3.6.9"
  }
 },
 "nbformat": 4,
 "nbformat_minor": 4
}
