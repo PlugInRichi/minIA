{
 "cells": [
  {
   "cell_type": "code",
   "execution_count": null,
   "metadata": {
    "collapsed": true,
    "pycharm": {
     "is_executing": true
    }
   },
   "outputs": [],
   "source": [
    "from minIA.models import Delf\n",
    "import matplotlib.pyplot as plt\n",
    "import cv2 as cv\n",
    "\n",
    "#Recibe lista de keypoints de una imagen, crea los objetos KP de openCV\n",
    "def genKeyPoints(kp_img):\n",
    "    keypoints = list()\n",
    "    for kp in kp_img:\n",
    "        keypoints.append(cv.KeyPoint(kp[0], kp[1], kp[2]))\n",
    "    return keypoints\n",
    "\n",
    "image_test_path = '/data/images/test/F125.jpg'\n",
    "extractor = Delf('/data/config/delf_config_galaxy_1.pbtxt')\n",
    "features = extractor.get_features(image_test_path)\n",
    "print(features)\n",
    "img = cv.imread(image_test_path)\n",
    "gray = cv.cvtColor(img, cv.COLOR_BGR2GRAY)\n",
    "if len(features['keypoints']) == 0:\n",
    "    print('Vacio')\n",
    "keypoints = genKeyPoints(features['keypoints'])\n",
    "img = cv.drawKeypoints(img, keypoints, img, flags=cv.DRAW_MATCHES_FLAGS_DRAW_RICH_KEYPOINTS)  # Aqui no quitar\n",
    "cv.imwrite('/data/images/test/F125_draw.jpg', img)\n",
    "plt.figure(figsize=(20,8))\n",
    "plt.imshow(img)"
   ]
  },
  {
   "cell_type": "code",
   "execution_count": null,
   "outputs": [],
   "source": [],
   "metadata": {
    "collapsed": false
   }
  }
 ],
 "metadata": {
  "kernelspec": {
   "display_name": "Python 3",
   "language": "python",
   "name": "python3"
  },
  "language_info": {
   "codemirror_mode": {
    "name": "ipython",
    "version": 2
   },
   "file_extension": ".py",
   "mimetype": "text/x-python",
   "name": "python",
   "nbconvert_exporter": "python",
   "pygments_lexer": "ipython2",
   "version": "2.7.6"
  }
 },
 "nbformat": 4,
 "nbformat_minor": 0
}
