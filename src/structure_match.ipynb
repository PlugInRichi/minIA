{
 "cells": [
  {
   "cell_type": "code",
   "execution_count": 1,
   "id": "b9121a1a",
   "metadata": {},
   "outputs": [],
   "source": [
    "from minIA.visual_structures import *\n",
    "import ipywidgets as widgets\n",
    "from ipywidgets import interact, interact_manual\n",
    "import matplotlib.pyplot as plt\n",
    "import numpy as np"
   ]
  },
  {
   "cell_type": "code",
   "execution_count": 2,
   "id": "ef95610c",
   "metadata": {
    "scrolled": true
   },
   "outputs": [],
   "source": [
    "#Cargas\n",
    "models_list = load_files(\"/data/SMH_final_models\")\n",
    "features_list = load_files(\"/data/visual_vocabulary\")\n",
    "path_images = '/data/images/images_gz2'\n",
    "#path_images = '/data/images/images_gz2_clean' #Path to SIFT"
   ]
  },
  {
   "cell_type": "code",
   "execution_count": 3,
   "id": "51976289",
   "metadata": {},
   "outputs": [
    {
     "data": {
      "application/vnd.jupyter.widget-view+json": {
       "model_id": "f19e961671f7469ba5d116b60bcb32c6",
       "version_major": 2,
       "version_minor": 0
      },
      "text/plain": [
       "interactive(children=(Dropdown(description='model_path', options=('DELF_v5-1_1000_r2_l1000.model', 'DELF_v5-1_…"
      ]
     },
     "metadata": {},
     "output_type": "display_data"
    }
   ],
   "source": [
    "@interact_manual \n",
    "def select_model(model_path=sorted(models_list)):\n",
    "    global structures, structures_size\n",
    "    structures_size, structures = load_model(models_list[model_path])\n",
    "    print('Model loaded!')"
   ]
  },
  {
   "cell_type": "code",
   "execution_count": 4,
   "id": "f5dfc70d",
   "metadata": {},
   "outputs": [
    {
     "data": {
      "application/vnd.jupyter.widget-view+json": {
       "model_id": "3efa79d4a2b44b7a9661332925fe010c",
       "version_major": 2,
       "version_minor": 0
      },
      "text/plain": [
       "interactive(children=(Dropdown(description='features_path', options=('visual_vocabulary_v2_SIFT_1000.csv', 'vi…"
      ]
     },
     "metadata": {},
     "output_type": "display_data"
    }
   ],
   "source": [
    "@interact_manual \n",
    "def select_features(features_path=sorted(features_list)):\n",
    "    global im_features_df\n",
    "    im_features_df = load_im_features(features_list[features_path])\n",
    "    print('Features loaded!')"
   ]
  },
  {
   "cell_type": "code",
   "execution_count": 5,
   "id": "346d6d17",
   "metadata": {},
   "outputs": [
    {
     "data": {
      "application/vnd.jupyter.widget-view+json": {
       "model_id": "be869532cbab4d28bad8855a4788f490",
       "version_major": 2,
       "version_minor": 0
      },
      "text/plain": [
       "interactive(children=(Dropdown(description='structure', options=(0, 1, 2, 3, 4, 5, 6), value=0), Button(descri…"
      ]
     },
     "metadata": {},
     "output_type": "display_data"
    }
   ],
   "source": [
    "@interact_manual\n",
    "def choose_structure(structure = range(0,len(structures))):\n",
    "    global structure_id\n",
    "    structure_id = structure\n",
    "    image = np.zeros((30, 100))\n",
    "    for word, frec in structures[structure_id]:\n",
    "        image[word // 100][word % 100] = frec\n",
    "    plt.rcParams[\"figure.figsize\"] = (15,150)\n",
    "    plt.imshow(image, cmap='hot', interpolation='nearest')\n",
    "    plt.show()"
   ]
  },
  {
   "cell_type": "code",
   "execution_count": 6,
   "id": "7c7d8cd2",
   "metadata": {},
   "outputs": [
    {
     "data": {
      "application/vnd.jupyter.widget-view+json": {
       "model_id": "b602c8cdb0fb44a9b465fc2ce07ba349",
       "version_major": 2,
       "version_minor": 0
      },
      "text/plain": [
       "interactive(children=(FloatSlider(value=0.491, description='threshold', max=1.0, min=0.001, step=0.01), FloatS…"
      ]
     },
     "metadata": {},
     "output_type": "display_data"
    }
   ],
   "source": [
    "@interact_manual\n",
    "def search(threshold = (0.001, 1.0, 0.01), split = (0.005, 1.0, 0.001)):\n",
    "    global images_df \n",
    "    images_df = search_structure(im_features_df, structure_id, threshold, split)"
   ]
  },
  {
   "cell_type": "code",
   "execution_count": 7,
   "id": "168da2a3",
   "metadata": {},
   "outputs": [
    {
     "data": {
      "application/vnd.jupyter.widget-view+json": {
       "model_id": "f84f6a4d31264fbdb838792eb8a58335",
       "version_major": 2,
       "version_minor": 0
      },
      "text/plain": [
       "interactive(children=(Dropdown(description='match_image', options=(1,), value=1), Checkbox(value=False, descri…"
      ]
     },
     "metadata": {},
     "output_type": "display_data"
    }
   ],
   "source": [
    "img_names = images_df['image_name'].unique()\n",
    "@interact_manual\n",
    "def select_images(match_image=list(range(1,len(img_names)+1)), gray=False):\n",
    "    show_images_per_structure(images_df, structure_id, img_names, match_image, path_images,gray)"
   ]
  },
  {
   "cell_type": "code",
   "execution_count": null,
   "id": "c1bf799e",
   "metadata": {},
   "outputs": [],
   "source": [
    "@interact_manual\n",
    "def draw_image(name=''):\n",
    "    img = draw_key_points_image(int(name),im_features_df, path_images)\n",
    "    fig = plt.figure(figsize=(10, 10))\n",
    "    plt.imshow(img)\n",
    "    "
   ]
  }
 ],
 "metadata": {
  "kernelspec": {
   "display_name": "Python 3",
   "language": "python",
   "name": "python3"
  },
  "language_info": {
   "codemirror_mode": {
    "name": "ipython",
    "version": 3
   },
   "file_extension": ".py",
   "mimetype": "text/x-python",
   "name": "python",
   "nbconvert_exporter": "python",
   "pygments_lexer": "ipython3",
   "version": "3.6.9"
  }
 },
 "nbformat": 4,
 "nbformat_minor": 5
}
